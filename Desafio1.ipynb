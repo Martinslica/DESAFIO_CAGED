{
 "cells": [
  {
   "cell_type": "markdown",
   "metadata": {
    "colab_type": "text",
    "id": "tiM8hCU0xgyo"
   },
   "source": [
    "## Desafio_1\n",
    "\n",
    "Agora vamos praticas tudo o que aprendemos no módulo 1 utilizando dados reais do CAGED (Cadastro Geral de Empregados e Desempregados)\n",
    "\n",
    "<br>\n",
    "<img src=\"img/caged.png\" width='1200' >\n",
    "<br>\n",
    "\n",
    "O Cadastro Geral de Empregados e Desempregados (CAGED) foi criado como registro permanente de admissões e dispensa de empregados, sob o regime da Consolidação das Leis do Trabalho (CLT).\n",
    "\n",
    "É utilizado pelo Programa de Seguro-Desemprego, para conferir os dados referentes aos vínculos trabalhistas, além de outros programas sociais.\n",
    "\n",
    "Este Cadastro serve, ainda, como base para a elaboração de estudos, pesquisas, projetos e programas ligados ao mercado de trabalho, ao mesmo tempo em que subsidia a tomada de decisões para ações governamentais.\n",
    "\n",
    "Visite o site do CAGED através [deste link](http://trabalho.gov.br/trabalhador-caged/2015-09-10-17-46-22) e acesse os dados clicando inicialemente em **ESTATÍSTICA** e depois em **MICRODADOS**, então acesse a base de dados do CAGED e baixe o último arquivo do ano de 2018 **CAGEDEST_122018.7z**. Além disso, baize também o arquivo **CAGEDEST_layout_Atualizado.xls** para o dicionário de dados.\n",
    "\n",
    "Após isso, podemos começar as nossas análises:\n",
    "\n",
    "1. **Importar as bibliotecas** e ler os dados: Importe as bibliotecas necessárias e verifique a cara dos dados e suas informações básicas dos conteúdos das colunas.\n",
    "\n",
    "2. Limpeza e transformação da variável alvo **Salário Mensal**: verifique o tipo de dado da variával Salário Mensal, faça as devidas mudanças, plote a distribuição e dispersão dos dados e aplique a transformação matemática para a correção da assimetria.\n",
    "\n",
    "3. Verificação dos dados da variável **Idade**: verifique os dados da variável Idade, plote uma distribuição e uma dispersão, calcule a correlação com a variável salário mensal e interprete os resultados.\n",
    "\n",
    "4. Verificação dos dados da variável **Grau de Instrução**: verifique os dados da variável Grau de instrução, plote uma distribuição e uma dispersão, calcule a correlação com a variável salário mensal e interprete os resultados.\n",
    "\n",
    "5. Verificação dos dados da variável **Sexo**: verifique os dados da variável Sexo, plote uma distribuição e uma dispersão, calcule a correlação com a variável salário mensal e interprete os resultados. Depois disso, faça uma inferência estatística pra verificar se os homens ganham mais que as mulheres.\n",
    "\n",
    "6. Verificação dos dados da variável **Raça Cor**: verifique os dados da variável Raça Cor, plote uma distribuição e uma dispersão, calcule a correlação com a variável salário mensal e interprete os resultados. Depois disso, faça uma inferência estatística pra verificar se os brancos ganham mais que os outros grupos étnicos.\n",
    "\n",
    "7. Elaborar uma hipótese para ser rejeitada ou não-rejeitada por você de acordo com o resultado da sua análise, através da utilização dos dados do CAJED considerando as suas colunas.\n",
    "\n",
    "8. Avançado: plote **todas as correlações das variávies numéricas entre si**. Sugestão busque uma biblioteca chamada SEABORN e plote um heatmap com as correlações.\n",
    "\n",
    "<!--9. Avançado: Plote uma **regressão múltipla**.-->\n"
   ]
  },
  {
   "cell_type": "code",
   "execution_count": 226,
   "metadata": {
    "colab": {},
    "colab_type": "code",
    "id": "jZtbdu2Nxgyq"
   },
   "outputs": [],
   "source": [
    "import pandas as pd\n",
    "import numpy as np\n",
    "import scipy \n",
    "from scipy import stats\n",
    "import matplotlib.pyplot as plt\n",
    "from sklearn import preprocessing\n"
   ]
  },
  {
   "cell_type": "code",
   "execution_count": 2,
   "metadata": {
    "colab": {},
    "colab_type": "code",
    "id": "H-4d_Xd2xgyv"
   },
   "outputs": [],
   "source": [
    "#windows-1251\n",
    "dados = pd.read_csv('CAGEDEST_122018.txt', encoding='windows-1252', sep=';', low_memory=False, decimal=\",\")"
   ]
  },
  {
   "cell_type": "code",
   "execution_count": 3,
   "metadata": {},
   "outputs": [],
   "source": [
    "grau_instrucao = pd.read_csv('grau_instrucao.csv', encoding='latin')"
   ]
  },
  {
   "cell_type": "code",
   "execution_count": 4,
   "metadata": {},
   "outputs": [
    {
     "data": {
      "text/html": [
       "<div>\n",
       "<style scoped>\n",
       "    .dataframe tbody tr th:only-of-type {\n",
       "        vertical-align: middle;\n",
       "    }\n",
       "\n",
       "    .dataframe tbody tr th {\n",
       "        vertical-align: top;\n",
       "    }\n",
       "\n",
       "    .dataframe thead th {\n",
       "        text-align: right;\n",
       "    }\n",
       "</style>\n",
       "<table border=\"1\" class=\"dataframe\">\n",
       "  <thead>\n",
       "    <tr style=\"text-align: right;\">\n",
       "      <th></th>\n",
       "      <th>descricao</th>\n",
       "      <th>codigo</th>\n",
       "    </tr>\n",
       "  </thead>\n",
       "  <tbody>\n",
       "    <tr>\n",
       "      <th>0</th>\n",
       "      <td>Analfabeto</td>\n",
       "      <td>1</td>\n",
       "    </tr>\n",
       "    <tr>\n",
       "      <th>1</th>\n",
       "      <td>Até 5ª Incompleto</td>\n",
       "      <td>2</td>\n",
       "    </tr>\n",
       "    <tr>\n",
       "      <th>2</th>\n",
       "      <td>5ª Completo Fundamental</td>\n",
       "      <td>3</td>\n",
       "    </tr>\n",
       "    <tr>\n",
       "      <th>3</th>\n",
       "      <td>6ª a 9ª Fundamental</td>\n",
       "      <td>4</td>\n",
       "    </tr>\n",
       "    <tr>\n",
       "      <th>4</th>\n",
       "      <td>Fundamental Completo</td>\n",
       "      <td>5</td>\n",
       "    </tr>\n",
       "    <tr>\n",
       "      <th>5</th>\n",
       "      <td>Médio Incompleto</td>\n",
       "      <td>6</td>\n",
       "    </tr>\n",
       "    <tr>\n",
       "      <th>6</th>\n",
       "      <td>Médio Completo</td>\n",
       "      <td>7</td>\n",
       "    </tr>\n",
       "    <tr>\n",
       "      <th>7</th>\n",
       "      <td>Superior Incompleto</td>\n",
       "      <td>8</td>\n",
       "    </tr>\n",
       "    <tr>\n",
       "      <th>8</th>\n",
       "      <td>Superior Completo</td>\n",
       "      <td>9</td>\n",
       "    </tr>\n",
       "    <tr>\n",
       "      <th>9</th>\n",
       "      <td>MESTRADO</td>\n",
       "      <td>10</td>\n",
       "    </tr>\n",
       "    <tr>\n",
       "      <th>10</th>\n",
       "      <td>DOUTORADO</td>\n",
       "      <td>11</td>\n",
       "    </tr>\n",
       "    <tr>\n",
       "      <th>11</th>\n",
       "      <td>IGNORADO</td>\n",
       "      <td>-1</td>\n",
       "    </tr>\n",
       "  </tbody>\n",
       "</table>\n",
       "</div>"
      ],
      "text/plain": [
       "                  descricao  codigo\n",
       "0                Analfabeto       1\n",
       "1         Até 5ª Incompleto       2\n",
       "2   5ª Completo Fundamental       3\n",
       "3       6ª a 9ª Fundamental       4\n",
       "4      Fundamental Completo       5\n",
       "5          Médio Incompleto       6\n",
       "6            Médio Completo       7\n",
       "7       Superior Incompleto       8\n",
       "8         Superior Completo       9\n",
       "9                  MESTRADO      10\n",
       "10                DOUTORADO      11\n",
       "11                 IGNORADO      -1"
      ]
     },
     "execution_count": 4,
     "metadata": {},
     "output_type": "execute_result"
    }
   ],
   "source": [
    "grau_instrucao"
   ]
  },
  {
   "cell_type": "code",
   "execution_count": 5,
   "metadata": {},
   "outputs": [],
   "source": [
    "raca_cor = pd.read_csv('raca_cor.csv', encoding='latin', sep=\";\")"
   ]
  },
  {
   "cell_type": "code",
   "execution_count": 6,
   "metadata": {
    "scrolled": true
   },
   "outputs": [
    {
     "data": {
      "text/html": [
       "<div>\n",
       "<style scoped>\n",
       "    .dataframe tbody tr th:only-of-type {\n",
       "        vertical-align: middle;\n",
       "    }\n",
       "\n",
       "    .dataframe tbody tr th {\n",
       "        vertical-align: top;\n",
       "    }\n",
       "\n",
       "    .dataframe thead th {\n",
       "        text-align: right;\n",
       "    }\n",
       "</style>\n",
       "<table border=\"1\" class=\"dataframe\">\n",
       "  <thead>\n",
       "    <tr style=\"text-align: right;\">\n",
       "      <th></th>\n",
       "      <th>raca cor</th>\n",
       "      <th>codigo</th>\n",
       "    </tr>\n",
       "  </thead>\n",
       "  <tbody>\n",
       "    <tr>\n",
       "      <th>0</th>\n",
       "      <td>INDIGENA</td>\n",
       "      <td>1</td>\n",
       "    </tr>\n",
       "    <tr>\n",
       "      <th>1</th>\n",
       "      <td>BRANCA</td>\n",
       "      <td>2</td>\n",
       "    </tr>\n",
       "    <tr>\n",
       "      <th>2</th>\n",
       "      <td>PRETA</td>\n",
       "      <td>4</td>\n",
       "    </tr>\n",
       "    <tr>\n",
       "      <th>3</th>\n",
       "      <td>AMARELA</td>\n",
       "      <td>6</td>\n",
       "    </tr>\n",
       "    <tr>\n",
       "      <th>4</th>\n",
       "      <td>PARDA</td>\n",
       "      <td>8</td>\n",
       "    </tr>\n",
       "    <tr>\n",
       "      <th>5</th>\n",
       "      <td>NAO IDENT</td>\n",
       "      <td>9</td>\n",
       "    </tr>\n",
       "    <tr>\n",
       "      <th>6</th>\n",
       "      <td>IGNORADO</td>\n",
       "      <td>-1</td>\n",
       "    </tr>\n",
       "  </tbody>\n",
       "</table>\n",
       "</div>"
      ],
      "text/plain": [
       "    raca cor  codigo\n",
       "0   INDIGENA       1\n",
       "1     BRANCA       2\n",
       "2      PRETA       4\n",
       "3    AMARELA       6\n",
       "4      PARDA       8\n",
       "5  NAO IDENT       9\n",
       "6   IGNORADO      -1"
      ]
     },
     "execution_count": 6,
     "metadata": {},
     "output_type": "execute_result"
    }
   ],
   "source": [
    "raca_cor"
   ]
  },
  {
   "cell_type": "code",
   "execution_count": 248,
   "metadata": {},
   "outputs": [],
   "source": [
    "Sexo = pd.read_csv('sexo.txt', encoding='latin', sep=\";\")"
   ]
  },
  {
   "cell_type": "code",
   "execution_count": 250,
   "metadata": {},
   "outputs": [
    {
     "data": {
      "text/html": [
       "<div>\n",
       "<style scoped>\n",
       "    .dataframe tbody tr th:only-of-type {\n",
       "        vertical-align: middle;\n",
       "    }\n",
       "\n",
       "    .dataframe tbody tr th {\n",
       "        vertical-align: top;\n",
       "    }\n",
       "\n",
       "    .dataframe thead th {\n",
       "        text-align: right;\n",
       "    }\n",
       "</style>\n",
       "<table border=\"1\" class=\"dataframe\">\n",
       "  <thead>\n",
       "    <tr style=\"text-align: right;\">\n",
       "      <th></th>\n",
       "      <th>Sexo</th>\n",
       "      <th>Categoria</th>\n",
       "    </tr>\n",
       "  </thead>\n",
       "  <tbody>\n",
       "    <tr>\n",
       "      <th>0</th>\n",
       "      <td>Masculino</td>\n",
       "      <td>1</td>\n",
       "    </tr>\n",
       "    <tr>\n",
       "      <th>1</th>\n",
       "      <td>Feminino</td>\n",
       "      <td>2</td>\n",
       "    </tr>\n",
       "  </tbody>\n",
       "</table>\n",
       "</div>"
      ],
      "text/plain": [
       "        Sexo  Categoria\n",
       "0  Masculino          1\n",
       "1   Feminino          2"
      ]
     },
     "execution_count": 250,
     "metadata": {},
     "output_type": "execute_result"
    }
   ],
   "source": [
    "Sexo"
   ]
  },
  {
   "cell_type": "code",
   "execution_count": 249,
   "metadata": {
    "colab": {
     "base_uri": "https://localhost:8080/",
     "height": 266
    },
    "colab_type": "code",
    "executionInfo": {
     "elapsed": 631,
     "status": "ok",
     "timestamp": 1570226617333,
     "user": {
      "displayName": "Luciano do Nascimento Caldas",
      "photoUrl": "",
      "userId": "03400218546262222907"
     },
     "user_tz": 180
    },
    "id": "R6qc14rSxgy0",
    "outputId": "9b4d5f22-581d-44d0-a80e-e653bb9596d9"
   },
   "outputs": [
    {
     "data": {
      "text/html": [
       "<div>\n",
       "<style scoped>\n",
       "    .dataframe tbody tr th:only-of-type {\n",
       "        vertical-align: middle;\n",
       "    }\n",
       "\n",
       "    .dataframe tbody tr th {\n",
       "        vertical-align: top;\n",
       "    }\n",
       "\n",
       "    .dataframe thead th {\n",
       "        text-align: right;\n",
       "    }\n",
       "</style>\n",
       "<table border=\"1\" class=\"dataframe\">\n",
       "  <thead>\n",
       "    <tr style=\"text-align: right;\">\n",
       "      <th></th>\n",
       "      <th>Admitidos/Desligados</th>\n",
       "      <th>Competência Declarada</th>\n",
       "      <th>Município</th>\n",
       "      <th>Ano Declarado</th>\n",
       "      <th>CBO 2002 Ocupação</th>\n",
       "      <th>CNAE 1.0 Classe</th>\n",
       "      <th>CNAE 2.0 Classe</th>\n",
       "      <th>CNAE 2.0 Subclas</th>\n",
       "      <th>Faixa Empr Início Jan</th>\n",
       "      <th>Grau Instrução</th>\n",
       "      <th>...</th>\n",
       "      <th>Região Adm SP</th>\n",
       "      <th>Região Corede</th>\n",
       "      <th>Região Corede 04</th>\n",
       "      <th>Região Gov SP</th>\n",
       "      <th>Região Senac PR</th>\n",
       "      <th>Região Senai PR</th>\n",
       "      <th>Região Senai SP</th>\n",
       "      <th>Sub-Região Senai PR</th>\n",
       "      <th>Ind Trab Parcial</th>\n",
       "      <th>Ind Trab Intermitente</th>\n",
       "    </tr>\n",
       "  </thead>\n",
       "  <tbody>\n",
       "    <tr>\n",
       "      <th>0</th>\n",
       "      <td>1</td>\n",
       "      <td>201812</td>\n",
       "      <td>500215</td>\n",
       "      <td>2018</td>\n",
       "      <td>711210</td>\n",
       "      <td>1619</td>\n",
       "      <td>1610</td>\n",
       "      <td>161003</td>\n",
       "      <td>1</td>\n",
       "      <td>6</td>\n",
       "      <td>...</td>\n",
       "      <td>999</td>\n",
       "      <td>{ñ</td>\n",
       "      <td>99</td>\n",
       "      <td>999</td>\n",
       "      <td>99</td>\n",
       "      <td>{ñ</td>\n",
       "      <td>999</td>\n",
       "      <td>99</td>\n",
       "      <td>0</td>\n",
       "      <td>0</td>\n",
       "    </tr>\n",
       "    <tr>\n",
       "      <th>1</th>\n",
       "      <td>1</td>\n",
       "      <td>201812</td>\n",
       "      <td>500710</td>\n",
       "      <td>2018</td>\n",
       "      <td>321210</td>\n",
       "      <td>2119</td>\n",
       "      <td>2101</td>\n",
       "      <td>210101</td>\n",
       "      <td>1</td>\n",
       "      <td>8</td>\n",
       "      <td>...</td>\n",
       "      <td>999</td>\n",
       "      <td>{ñ</td>\n",
       "      <td>99</td>\n",
       "      <td>999</td>\n",
       "      <td>99</td>\n",
       "      <td>{ñ</td>\n",
       "      <td>999</td>\n",
       "      <td>99</td>\n",
       "      <td>0</td>\n",
       "      <td>0</td>\n",
       "    </tr>\n",
       "    <tr>\n",
       "      <th>2</th>\n",
       "      <td>1</td>\n",
       "      <td>201812</td>\n",
       "      <td>500460</td>\n",
       "      <td>2018</td>\n",
       "      <td>623110</td>\n",
       "      <td>1619</td>\n",
       "      <td>1610</td>\n",
       "      <td>161003</td>\n",
       "      <td>1</td>\n",
       "      <td>2</td>\n",
       "      <td>...</td>\n",
       "      <td>999</td>\n",
       "      <td>{ñ</td>\n",
       "      <td>99</td>\n",
       "      <td>999</td>\n",
       "      <td>99</td>\n",
       "      <td>{ñ</td>\n",
       "      <td>999</td>\n",
       "      <td>99</td>\n",
       "      <td>0</td>\n",
       "      <td>1</td>\n",
       "    </tr>\n",
       "    <tr>\n",
       "      <th>3</th>\n",
       "      <td>1</td>\n",
       "      <td>201812</td>\n",
       "      <td>500460</td>\n",
       "      <td>2018</td>\n",
       "      <td>623110</td>\n",
       "      <td>1619</td>\n",
       "      <td>1610</td>\n",
       "      <td>161003</td>\n",
       "      <td>1</td>\n",
       "      <td>2</td>\n",
       "      <td>...</td>\n",
       "      <td>999</td>\n",
       "      <td>{ñ</td>\n",
       "      <td>99</td>\n",
       "      <td>999</td>\n",
       "      <td>99</td>\n",
       "      <td>{ñ</td>\n",
       "      <td>999</td>\n",
       "      <td>99</td>\n",
       "      <td>0</td>\n",
       "      <td>1</td>\n",
       "    </tr>\n",
       "    <tr>\n",
       "      <th>4</th>\n",
       "      <td>1</td>\n",
       "      <td>201812</td>\n",
       "      <td>500460</td>\n",
       "      <td>2018</td>\n",
       "      <td>623110</td>\n",
       "      <td>1619</td>\n",
       "      <td>1610</td>\n",
       "      <td>161003</td>\n",
       "      <td>1</td>\n",
       "      <td>2</td>\n",
       "      <td>...</td>\n",
       "      <td>999</td>\n",
       "      <td>{ñ</td>\n",
       "      <td>99</td>\n",
       "      <td>999</td>\n",
       "      <td>99</td>\n",
       "      <td>{ñ</td>\n",
       "      <td>999</td>\n",
       "      <td>99</td>\n",
       "      <td>0</td>\n",
       "      <td>1</td>\n",
       "    </tr>\n",
       "  </tbody>\n",
       "</table>\n",
       "<p>5 rows × 42 columns</p>\n",
       "</div>"
      ],
      "text/plain": [
       "   Admitidos/Desligados  Competência Declarada  Município  Ano Declarado  \\\n",
       "0                     1                 201812     500215           2018   \n",
       "1                     1                 201812     500710           2018   \n",
       "2                     1                 201812     500460           2018   \n",
       "3                     1                 201812     500460           2018   \n",
       "4                     1                 201812     500460           2018   \n",
       "\n",
       "   CBO 2002 Ocupação  CNAE 1.0 Classe  CNAE 2.0 Classe  CNAE 2.0 Subclas  \\\n",
       "0             711210             1619             1610            161003   \n",
       "1             321210             2119             2101            210101   \n",
       "2             623110             1619             1610            161003   \n",
       "3             623110             1619             1610            161003   \n",
       "4             623110             1619             1610            161003   \n",
       "\n",
       "   Faixa Empr Início Jan  Grau Instrução  ...  Região Adm SP  Região Corede  \\\n",
       "0                      1               6  ...            999             {ñ   \n",
       "1                      1               8  ...            999             {ñ   \n",
       "2                      1               2  ...            999             {ñ   \n",
       "3                      1               2  ...            999             {ñ   \n",
       "4                      1               2  ...            999             {ñ   \n",
       "\n",
       "   Região Corede 04  Região Gov SP  Região Senac PR  Região Senai PR  \\\n",
       "0                99            999               99               {ñ   \n",
       "1                99            999               99               {ñ   \n",
       "2                99            999               99               {ñ   \n",
       "3                99            999               99               {ñ   \n",
       "4                99            999               99               {ñ   \n",
       "\n",
       "  Região Senai SP  Sub-Região Senai PR  Ind Trab Parcial  \\\n",
       "0             999                   99                 0   \n",
       "1             999                   99                 0   \n",
       "2             999                   99                 0   \n",
       "3             999                   99                 0   \n",
       "4             999                   99                 0   \n",
       "\n",
       "   Ind Trab Intermitente  \n",
       "0                      0  \n",
       "1                      0  \n",
       "2                      1  \n",
       "3                      1  \n",
       "4                      1  \n",
       "\n",
       "[5 rows x 42 columns]"
      ]
     },
     "execution_count": 249,
     "metadata": {},
     "output_type": "execute_result"
    }
   ],
   "source": [
    "dados.head()"
   ]
  },
  {
   "cell_type": "code",
   "execution_count": 8,
   "metadata": {
    "colab": {
     "base_uri": "https://localhost:8080/",
     "height": 266
    },
    "colab_type": "code",
    "executionInfo": {
     "elapsed": 551,
     "status": "ok",
     "timestamp": 1570226733075,
     "user": {
      "displayName": "Luciano do Nascimento Caldas",
      "photoUrl": "",
      "userId": "03400218546262222907"
     },
     "user_tz": 180
    },
    "id": "SVIS9uryxgy5",
    "outputId": "c8187f7c-f2f5-4551-c4d7-0b17bd620fc7"
   },
   "outputs": [
    {
     "data": {
      "text/html": [
       "<div>\n",
       "<style scoped>\n",
       "    .dataframe tbody tr th:only-of-type {\n",
       "        vertical-align: middle;\n",
       "    }\n",
       "\n",
       "    .dataframe tbody tr th {\n",
       "        vertical-align: top;\n",
       "    }\n",
       "\n",
       "    .dataframe thead th {\n",
       "        text-align: right;\n",
       "    }\n",
       "</style>\n",
       "<table border=\"1\" class=\"dataframe\">\n",
       "  <thead>\n",
       "    <tr style=\"text-align: right;\">\n",
       "      <th></th>\n",
       "      <th>Admitidos/Desligados</th>\n",
       "      <th>Competência Declarada</th>\n",
       "      <th>Município</th>\n",
       "      <th>Ano Declarado</th>\n",
       "      <th>CBO 2002 Ocupação</th>\n",
       "      <th>CNAE 1.0 Classe</th>\n",
       "      <th>CNAE 2.0 Classe</th>\n",
       "      <th>CNAE 2.0 Subclas</th>\n",
       "      <th>Faixa Empr Início Jan</th>\n",
       "      <th>Grau Instrução</th>\n",
       "      <th>...</th>\n",
       "      <th>Região Adm SP</th>\n",
       "      <th>Região Corede</th>\n",
       "      <th>Região Corede 04</th>\n",
       "      <th>Região Gov SP</th>\n",
       "      <th>Região Senac PR</th>\n",
       "      <th>Região Senai PR</th>\n",
       "      <th>Região Senai SP</th>\n",
       "      <th>Sub-Região Senai PR</th>\n",
       "      <th>Ind Trab Parcial</th>\n",
       "      <th>Ind Trab Intermitente</th>\n",
       "    </tr>\n",
       "  </thead>\n",
       "  <tbody>\n",
       "    <tr>\n",
       "      <th>2256747</th>\n",
       "      <td>2</td>\n",
       "      <td>201812</td>\n",
       "      <td>221100</td>\n",
       "      <td>2018</td>\n",
       "      <td>252405</td>\n",
       "      <td>91995</td>\n",
       "      <td>94308</td>\n",
       "      <td>9430800</td>\n",
       "      <td>5</td>\n",
       "      <td>9</td>\n",
       "      <td>...</td>\n",
       "      <td>999</td>\n",
       "      <td>{ñ</td>\n",
       "      <td>99</td>\n",
       "      <td>999</td>\n",
       "      <td>99</td>\n",
       "      <td>{ñ</td>\n",
       "      <td>999</td>\n",
       "      <td>99</td>\n",
       "      <td>0</td>\n",
       "      <td>0</td>\n",
       "    </tr>\n",
       "    <tr>\n",
       "      <th>2256748</th>\n",
       "      <td>2</td>\n",
       "      <td>201812</td>\n",
       "      <td>221100</td>\n",
       "      <td>2018</td>\n",
       "      <td>514120</td>\n",
       "      <td>91995</td>\n",
       "      <td>94308</td>\n",
       "      <td>9430800</td>\n",
       "      <td>6</td>\n",
       "      <td>7</td>\n",
       "      <td>...</td>\n",
       "      <td>999</td>\n",
       "      <td>{ñ</td>\n",
       "      <td>99</td>\n",
       "      <td>999</td>\n",
       "      <td>99</td>\n",
       "      <td>{ñ</td>\n",
       "      <td>999</td>\n",
       "      <td>99</td>\n",
       "      <td>0</td>\n",
       "      <td>0</td>\n",
       "    </tr>\n",
       "    <tr>\n",
       "      <th>2256749</th>\n",
       "      <td>2</td>\n",
       "      <td>201812</td>\n",
       "      <td>221100</td>\n",
       "      <td>2018</td>\n",
       "      <td>422110</td>\n",
       "      <td>85138</td>\n",
       "      <td>86305</td>\n",
       "      <td>8630503</td>\n",
       "      <td>1</td>\n",
       "      <td>7</td>\n",
       "      <td>...</td>\n",
       "      <td>999</td>\n",
       "      <td>{ñ</td>\n",
       "      <td>99</td>\n",
       "      <td>999</td>\n",
       "      <td>99</td>\n",
       "      <td>{ñ</td>\n",
       "      <td>999</td>\n",
       "      <td>99</td>\n",
       "      <td>0</td>\n",
       "      <td>0</td>\n",
       "    </tr>\n",
       "    <tr>\n",
       "      <th>2256750</th>\n",
       "      <td>2</td>\n",
       "      <td>201812</td>\n",
       "      <td>221100</td>\n",
       "      <td>2018</td>\n",
       "      <td>422315</td>\n",
       "      <td>66303</td>\n",
       "      <td>65502</td>\n",
       "      <td>6550200</td>\n",
       "      <td>6</td>\n",
       "      <td>8</td>\n",
       "      <td>...</td>\n",
       "      <td>999</td>\n",
       "      <td>{ñ</td>\n",
       "      <td>99</td>\n",
       "      <td>999</td>\n",
       "      <td>99</td>\n",
       "      <td>{ñ</td>\n",
       "      <td>999</td>\n",
       "      <td>99</td>\n",
       "      <td>0</td>\n",
       "      <td>0</td>\n",
       "    </tr>\n",
       "    <tr>\n",
       "      <th>2256751</th>\n",
       "      <td>2</td>\n",
       "      <td>201812</td>\n",
       "      <td>220770</td>\n",
       "      <td>2018</td>\n",
       "      <td>231105</td>\n",
       "      <td>80144</td>\n",
       "      <td>85121</td>\n",
       "      <td>8512100</td>\n",
       "      <td>5</td>\n",
       "      <td>9</td>\n",
       "      <td>...</td>\n",
       "      <td>999</td>\n",
       "      <td>{ñ</td>\n",
       "      <td>99</td>\n",
       "      <td>999</td>\n",
       "      <td>99</td>\n",
       "      <td>{ñ</td>\n",
       "      <td>999</td>\n",
       "      <td>99</td>\n",
       "      <td>0</td>\n",
       "      <td>0</td>\n",
       "    </tr>\n",
       "  </tbody>\n",
       "</table>\n",
       "<p>5 rows × 42 columns</p>\n",
       "</div>"
      ],
      "text/plain": [
       "         Admitidos/Desligados  Competência Declarada  Município  \\\n",
       "2256747                     2                 201812     221100   \n",
       "2256748                     2                 201812     221100   \n",
       "2256749                     2                 201812     221100   \n",
       "2256750                     2                 201812     221100   \n",
       "2256751                     2                 201812     220770   \n",
       "\n",
       "         Ano Declarado  CBO 2002 Ocupação  CNAE 1.0 Classe  CNAE 2.0 Classe  \\\n",
       "2256747           2018             252405            91995            94308   \n",
       "2256748           2018             514120            91995            94308   \n",
       "2256749           2018             422110            85138            86305   \n",
       "2256750           2018             422315            66303            65502   \n",
       "2256751           2018             231105            80144            85121   \n",
       "\n",
       "         CNAE 2.0 Subclas  Faixa Empr Início Jan  Grau Instrução  ...  \\\n",
       "2256747           9430800                      5               9  ...   \n",
       "2256748           9430800                      6               7  ...   \n",
       "2256749           8630503                      1               7  ...   \n",
       "2256750           6550200                      6               8  ...   \n",
       "2256751           8512100                      5               9  ...   \n",
       "\n",
       "         Região Adm SP  Região Corede  Região Corede 04  Região Gov SP  \\\n",
       "2256747            999             {ñ                99            999   \n",
       "2256748            999             {ñ                99            999   \n",
       "2256749            999             {ñ                99            999   \n",
       "2256750            999             {ñ                99            999   \n",
       "2256751            999             {ñ                99            999   \n",
       "\n",
       "         Região Senac PR  Região Senai PR  Região Senai SP  \\\n",
       "2256747               99               {ñ              999   \n",
       "2256748               99               {ñ              999   \n",
       "2256749               99               {ñ              999   \n",
       "2256750               99               {ñ              999   \n",
       "2256751               99               {ñ              999   \n",
       "\n",
       "         Sub-Região Senai PR  Ind Trab Parcial  Ind Trab Intermitente  \n",
       "2256747                   99                 0                      0  \n",
       "2256748                   99                 0                      0  \n",
       "2256749                   99                 0                      0  \n",
       "2256750                   99                 0                      0  \n",
       "2256751                   99                 0                      0  \n",
       "\n",
       "[5 rows x 42 columns]"
      ]
     },
     "execution_count": 8,
     "metadata": {},
     "output_type": "execute_result"
    }
   ],
   "source": [
    "dados.tail()"
   ]
  },
  {
   "cell_type": "code",
   "execution_count": 9,
   "metadata": {
    "colab": {
     "base_uri": "https://localhost:8080/",
     "height": 246
    },
    "colab_type": "code",
    "executionInfo": {
     "elapsed": 619,
     "status": "ok",
     "timestamp": 1570226735328,
     "user": {
      "displayName": "Luciano do Nascimento Caldas",
      "photoUrl": "",
      "userId": "03400218546262222907"
     },
     "user_tz": 180
    },
    "id": "HazWQax9xgy8",
    "outputId": "603fdb18-f2d1-461c-9bc7-d030d3c19f5a"
   },
   "outputs": [
    {
     "data": {
      "text/plain": [
       "Index(['Admitidos/Desligados', 'Competência Declarada', 'Município',\n",
       "       'Ano Declarado', 'CBO 2002 Ocupação', 'CNAE 1.0 Classe',\n",
       "       'CNAE 2.0 Classe', 'CNAE 2.0 Subclas', 'Faixa Empr Início Jan',\n",
       "       'Grau Instrução', 'Qtd Hora Contrat', 'IBGE Subsetor', 'Idade',\n",
       "       'Ind Aprendiz', 'Ind Portador Defic', 'Raça Cor', 'Salário Mensal',\n",
       "       'Saldo Mov', 'Sexo', 'Tempo Emprego', 'Tipo Estab', 'Tipo Defic',\n",
       "       'Tipo Mov Desagregado', 'UF', 'Bairros SP', 'Bairros Fortaleza',\n",
       "       'Bairros RJ', 'Distritos SP', 'Regiões Adm DF', 'Mesorregião',\n",
       "       'Microrregião', 'Região Adm RJ', 'Região Adm SP', 'Região Corede',\n",
       "       'Região Corede 04', 'Região Gov SP', 'Região Senac PR',\n",
       "       'Região Senai PR', 'Região Senai SP', 'Sub-Região Senai PR',\n",
       "       'Ind Trab Parcial', 'Ind Trab Intermitente'],\n",
       "      dtype='object')"
      ]
     },
     "execution_count": 9,
     "metadata": {},
     "output_type": "execute_result"
    }
   ],
   "source": [
    "dados.columns"
   ]
  },
  {
   "cell_type": "code",
   "execution_count": 10,
   "metadata": {},
   "outputs": [
    {
     "data": {
      "text/html": [
       "<div>\n",
       "<style scoped>\n",
       "    .dataframe tbody tr th:only-of-type {\n",
       "        vertical-align: middle;\n",
       "    }\n",
       "\n",
       "    .dataframe tbody tr th {\n",
       "        vertical-align: top;\n",
       "    }\n",
       "\n",
       "    .dataframe thead th {\n",
       "        text-align: right;\n",
       "    }\n",
       "</style>\n",
       "<table border=\"1\" class=\"dataframe\">\n",
       "  <thead>\n",
       "    <tr style=\"text-align: right;\">\n",
       "      <th></th>\n",
       "      <th>Admitidos/Desligados</th>\n",
       "      <th>Competência Declarada</th>\n",
       "      <th>Município</th>\n",
       "      <th>Ano Declarado</th>\n",
       "      <th>CBO 2002 Ocupação</th>\n",
       "      <th>CNAE 1.0 Classe</th>\n",
       "      <th>CNAE 2.0 Classe</th>\n",
       "      <th>CNAE 2.0 Subclas</th>\n",
       "      <th>Faixa Empr Início Jan</th>\n",
       "      <th>Grau Instrução</th>\n",
       "      <th>...</th>\n",
       "      <th>Tempo Emprego</th>\n",
       "      <th>Tipo Estab</th>\n",
       "      <th>Tipo Defic</th>\n",
       "      <th>Tipo Mov Desagregado</th>\n",
       "      <th>UF</th>\n",
       "      <th>Regiões Adm DF</th>\n",
       "      <th>Mesorregião</th>\n",
       "      <th>Microrregião</th>\n",
       "      <th>Ind Trab Parcial</th>\n",
       "      <th>Ind Trab Intermitente</th>\n",
       "    </tr>\n",
       "  </thead>\n",
       "  <tbody>\n",
       "    <tr>\n",
       "      <th>count</th>\n",
       "      <td>2.256752e+06</td>\n",
       "      <td>2256752.0</td>\n",
       "      <td>2.256752e+06</td>\n",
       "      <td>2256752.0</td>\n",
       "      <td>2.256752e+06</td>\n",
       "      <td>2.256752e+06</td>\n",
       "      <td>2.256752e+06</td>\n",
       "      <td>2.256752e+06</td>\n",
       "      <td>2.256752e+06</td>\n",
       "      <td>2.256752e+06</td>\n",
       "      <td>...</td>\n",
       "      <td>2.256752e+06</td>\n",
       "      <td>2.256752e+06</td>\n",
       "      <td>2.256752e+06</td>\n",
       "      <td>2.256752e+06</td>\n",
       "      <td>2.256752e+06</td>\n",
       "      <td>2.256752e+06</td>\n",
       "      <td>2.256752e+06</td>\n",
       "      <td>2.256752e+06</td>\n",
       "      <td>2.256752e+06</td>\n",
       "      <td>2.256752e+06</td>\n",
       "    </tr>\n",
       "    <tr>\n",
       "      <th>mean</th>\n",
       "      <td>1.574103e+00</td>\n",
       "      <td>201812.0</td>\n",
       "      <td>3.553863e+05</td>\n",
       "      <td>2018.0</td>\n",
       "      <td>5.368213e+05</td>\n",
       "      <td>5.304958e+04</td>\n",
       "      <td>5.126839e+04</td>\n",
       "      <td>5.126847e+06</td>\n",
       "      <td>4.303066e+00</td>\n",
       "      <td>6.595547e+00</td>\n",
       "      <td>...</td>\n",
       "      <td>1.318030e+01</td>\n",
       "      <td>1.084850e+00</td>\n",
       "      <td>1.553693e-02</td>\n",
       "      <td>6.216255e+00</td>\n",
       "      <td>3.534381e+01</td>\n",
       "      <td>7.773592e-01</td>\n",
       "      <td>3.540988e+03</td>\n",
       "      <td>3.537022e+04</td>\n",
       "      <td>4.852106e-03</td>\n",
       "      <td>5.339089e-03</td>\n",
       "    </tr>\n",
       "    <tr>\n",
       "      <th>std</th>\n",
       "      <td>4.944784e-01</td>\n",
       "      <td>0.0</td>\n",
       "      <td>8.300073e+04</td>\n",
       "      <td>0.0</td>\n",
       "      <td>1.784826e+05</td>\n",
       "      <td>2.269392e+04</td>\n",
       "      <td>2.468035e+04</td>\n",
       "      <td>2.468034e+06</td>\n",
       "      <td>2.646710e+00</td>\n",
       "      <td>1.548538e+00</td>\n",
       "      <td>...</td>\n",
       "      <td>3.413455e+01</td>\n",
       "      <td>4.031142e-01</td>\n",
       "      <td>2.154446e-01</td>\n",
       "      <td>9.922202e+00</td>\n",
       "      <td>8.311311e+00</td>\n",
       "      <td>8.125151e+01</td>\n",
       "      <td>8.309257e+02</td>\n",
       "      <td>8.310356e+03</td>\n",
       "      <td>6.948788e-02</td>\n",
       "      <td>7.287376e-02</td>\n",
       "    </tr>\n",
       "    <tr>\n",
       "      <th>min</th>\n",
       "      <td>1.000000e+00</td>\n",
       "      <td>201812.0</td>\n",
       "      <td>1.100010e+05</td>\n",
       "      <td>2018.0</td>\n",
       "      <td>3.011000e+04</td>\n",
       "      <td>1.112000e+03</td>\n",
       "      <td>1.113000e+03</td>\n",
       "      <td>1.113010e+05</td>\n",
       "      <td>1.000000e+00</td>\n",
       "      <td>1.000000e+00</td>\n",
       "      <td>...</td>\n",
       "      <td>0.000000e+00</td>\n",
       "      <td>1.000000e+00</td>\n",
       "      <td>0.000000e+00</td>\n",
       "      <td>1.000000e+00</td>\n",
       "      <td>1.100000e+01</td>\n",
       "      <td>0.000000e+00</td>\n",
       "      <td>1.101000e+03</td>\n",
       "      <td>1.100100e+04</td>\n",
       "      <td>0.000000e+00</td>\n",
       "      <td>0.000000e+00</td>\n",
       "    </tr>\n",
       "    <tr>\n",
       "      <th>25%</th>\n",
       "      <td>1.000000e+00</td>\n",
       "      <td>201812.0</td>\n",
       "      <td>3.147000e+05</td>\n",
       "      <td>2018.0</td>\n",
       "      <td>4.141050e+05</td>\n",
       "      <td>4.525000e+04</td>\n",
       "      <td>4.213800e+04</td>\n",
       "      <td>4.213800e+06</td>\n",
       "      <td>2.000000e+00</td>\n",
       "      <td>6.000000e+00</td>\n",
       "      <td>...</td>\n",
       "      <td>0.000000e+00</td>\n",
       "      <td>1.000000e+00</td>\n",
       "      <td>0.000000e+00</td>\n",
       "      <td>2.000000e+00</td>\n",
       "      <td>3.100000e+01</td>\n",
       "      <td>0.000000e+00</td>\n",
       "      <td>3.108000e+03</td>\n",
       "      <td>3.103900e+04</td>\n",
       "      <td>0.000000e+00</td>\n",
       "      <td>0.000000e+00</td>\n",
       "    </tr>\n",
       "    <tr>\n",
       "      <th>50%</th>\n",
       "      <td>2.000000e+00</td>\n",
       "      <td>201812.0</td>\n",
       "      <td>3.531500e+05</td>\n",
       "      <td>2018.0</td>\n",
       "      <td>5.174100e+05</td>\n",
       "      <td>5.241800e+04</td>\n",
       "      <td>4.773300e+04</td>\n",
       "      <td>4.773300e+06</td>\n",
       "      <td>4.000000e+00</td>\n",
       "      <td>7.000000e+00</td>\n",
       "      <td>...</td>\n",
       "      <td>2.000000e+00</td>\n",
       "      <td>1.000000e+00</td>\n",
       "      <td>0.000000e+00</td>\n",
       "      <td>4.000000e+00</td>\n",
       "      <td>3.500000e+01</td>\n",
       "      <td>0.000000e+00</td>\n",
       "      <td>3.512000e+03</td>\n",
       "      <td>3.504600e+04</td>\n",
       "      <td>0.000000e+00</td>\n",
       "      <td>0.000000e+00</td>\n",
       "    </tr>\n",
       "    <tr>\n",
       "      <th>75%</th>\n",
       "      <td>2.000000e+00</td>\n",
       "      <td>201812.0</td>\n",
       "      <td>4.117900e+05</td>\n",
       "      <td>2018.0</td>\n",
       "      <td>7.152100e+05</td>\n",
       "      <td>7.412800e+04</td>\n",
       "      <td>7.490100e+04</td>\n",
       "      <td>7.490102e+06</td>\n",
       "      <td>6.000000e+00</td>\n",
       "      <td>7.000000e+00</td>\n",
       "      <td>...</td>\n",
       "      <td>1.100000e+01</td>\n",
       "      <td>1.000000e+00</td>\n",
       "      <td>0.000000e+00</td>\n",
       "      <td>6.000000e+00</td>\n",
       "      <td>4.100000e+01</td>\n",
       "      <td>0.000000e+00</td>\n",
       "      <td>4.110000e+03</td>\n",
       "      <td>4.103700e+04</td>\n",
       "      <td>0.000000e+00</td>\n",
       "      <td>0.000000e+00</td>\n",
       "    </tr>\n",
       "    <tr>\n",
       "      <th>max</th>\n",
       "      <td>2.000000e+00</td>\n",
       "      <td>201812.0</td>\n",
       "      <td>5.300100e+05</td>\n",
       "      <td>2018.0</td>\n",
       "      <td>9.922250e+05</td>\n",
       "      <td>9.900700e+04</td>\n",
       "      <td>9.900800e+04</td>\n",
       "      <td>9.900800e+06</td>\n",
       "      <td>9.000000e+00</td>\n",
       "      <td>9.000000e+00</td>\n",
       "      <td>...</td>\n",
       "      <td>5.990000e+02</td>\n",
       "      <td>3.000000e+00</td>\n",
       "      <td>6.000000e+00</td>\n",
       "      <td>9.000000e+01</td>\n",
       "      <td>5.300000e+01</td>\n",
       "      <td>9.999000e+03</td>\n",
       "      <td>5.301000e+03</td>\n",
       "      <td>5.300100e+04</td>\n",
       "      <td>1.000000e+00</td>\n",
       "      <td>1.000000e+00</td>\n",
       "    </tr>\n",
       "  </tbody>\n",
       "</table>\n",
       "<p>8 rows × 29 columns</p>\n",
       "</div>"
      ],
      "text/plain": [
       "       Admitidos/Desligados  Competência Declarada     Município  \\\n",
       "count          2.256752e+06              2256752.0  2.256752e+06   \n",
       "mean           1.574103e+00               201812.0  3.553863e+05   \n",
       "std            4.944784e-01                    0.0  8.300073e+04   \n",
       "min            1.000000e+00               201812.0  1.100010e+05   \n",
       "25%            1.000000e+00               201812.0  3.147000e+05   \n",
       "50%            2.000000e+00               201812.0  3.531500e+05   \n",
       "75%            2.000000e+00               201812.0  4.117900e+05   \n",
       "max            2.000000e+00               201812.0  5.300100e+05   \n",
       "\n",
       "       Ano Declarado  CBO 2002 Ocupação  CNAE 1.0 Classe  CNAE 2.0 Classe  \\\n",
       "count      2256752.0       2.256752e+06     2.256752e+06     2.256752e+06   \n",
       "mean          2018.0       5.368213e+05     5.304958e+04     5.126839e+04   \n",
       "std              0.0       1.784826e+05     2.269392e+04     2.468035e+04   \n",
       "min           2018.0       3.011000e+04     1.112000e+03     1.113000e+03   \n",
       "25%           2018.0       4.141050e+05     4.525000e+04     4.213800e+04   \n",
       "50%           2018.0       5.174100e+05     5.241800e+04     4.773300e+04   \n",
       "75%           2018.0       7.152100e+05     7.412800e+04     7.490100e+04   \n",
       "max           2018.0       9.922250e+05     9.900700e+04     9.900800e+04   \n",
       "\n",
       "       CNAE 2.0 Subclas  Faixa Empr Início Jan  Grau Instrução  ...  \\\n",
       "count      2.256752e+06           2.256752e+06    2.256752e+06  ...   \n",
       "mean       5.126847e+06           4.303066e+00    6.595547e+00  ...   \n",
       "std        2.468034e+06           2.646710e+00    1.548538e+00  ...   \n",
       "min        1.113010e+05           1.000000e+00    1.000000e+00  ...   \n",
       "25%        4.213800e+06           2.000000e+00    6.000000e+00  ...   \n",
       "50%        4.773300e+06           4.000000e+00    7.000000e+00  ...   \n",
       "75%        7.490102e+06           6.000000e+00    7.000000e+00  ...   \n",
       "max        9.900800e+06           9.000000e+00    9.000000e+00  ...   \n",
       "\n",
       "       Tempo Emprego    Tipo Estab    Tipo Defic  Tipo Mov Desagregado  \\\n",
       "count   2.256752e+06  2.256752e+06  2.256752e+06          2.256752e+06   \n",
       "mean    1.318030e+01  1.084850e+00  1.553693e-02          6.216255e+00   \n",
       "std     3.413455e+01  4.031142e-01  2.154446e-01          9.922202e+00   \n",
       "min     0.000000e+00  1.000000e+00  0.000000e+00          1.000000e+00   \n",
       "25%     0.000000e+00  1.000000e+00  0.000000e+00          2.000000e+00   \n",
       "50%     2.000000e+00  1.000000e+00  0.000000e+00          4.000000e+00   \n",
       "75%     1.100000e+01  1.000000e+00  0.000000e+00          6.000000e+00   \n",
       "max     5.990000e+02  3.000000e+00  6.000000e+00          9.000000e+01   \n",
       "\n",
       "                 UF  Regiões Adm DF   Mesorregião  Microrregião  \\\n",
       "count  2.256752e+06    2.256752e+06  2.256752e+06  2.256752e+06   \n",
       "mean   3.534381e+01    7.773592e-01  3.540988e+03  3.537022e+04   \n",
       "std    8.311311e+00    8.125151e+01  8.309257e+02  8.310356e+03   \n",
       "min    1.100000e+01    0.000000e+00  1.101000e+03  1.100100e+04   \n",
       "25%    3.100000e+01    0.000000e+00  3.108000e+03  3.103900e+04   \n",
       "50%    3.500000e+01    0.000000e+00  3.512000e+03  3.504600e+04   \n",
       "75%    4.100000e+01    0.000000e+00  4.110000e+03  4.103700e+04   \n",
       "max    5.300000e+01    9.999000e+03  5.301000e+03  5.300100e+04   \n",
       "\n",
       "       Ind Trab Parcial  Ind Trab Intermitente  \n",
       "count      2.256752e+06           2.256752e+06  \n",
       "mean       4.852106e-03           5.339089e-03  \n",
       "std        6.948788e-02           7.287376e-02  \n",
       "min        0.000000e+00           0.000000e+00  \n",
       "25%        0.000000e+00           0.000000e+00  \n",
       "50%        0.000000e+00           0.000000e+00  \n",
       "75%        0.000000e+00           0.000000e+00  \n",
       "max        1.000000e+00           1.000000e+00  \n",
       "\n",
       "[8 rows x 29 columns]"
      ]
     },
     "execution_count": 10,
     "metadata": {},
     "output_type": "execute_result"
    }
   ],
   "source": [
    "dados.describe()"
   ]
  },
  {
   "cell_type": "code",
   "execution_count": 11,
   "metadata": {},
   "outputs": [
    {
     "data": {
      "text/plain": [
       "(2256752, 42)"
      ]
     },
     "execution_count": 11,
     "metadata": {},
     "output_type": "execute_result"
    }
   ],
   "source": [
    "dados.shape"
   ]
  },
  {
   "cell_type": "markdown",
   "metadata": {},
   "source": [
    "## Salário Mensal\n",
    "\n",
    "A variável salário mensal é do tipo float64\n"
   ]
  },
  {
   "cell_type": "code",
   "execution_count": 12,
   "metadata": {
    "colab": {
     "base_uri": "https://localhost:8080/",
     "height": 1000
    },
    "colab_type": "code",
    "executionInfo": {
     "elapsed": 617,
     "status": "ok",
     "timestamp": 1570226737271,
     "user": {
      "displayName": "Luciano do Nascimento Caldas",
      "photoUrl": "",
      "userId": "03400218546262222907"
     },
     "user_tz": 180
    },
    "id": "0t3ehuY7xgy-",
    "outputId": "29fc4c78-9366-473a-b958-57bb4f918160"
   },
   "outputs": [
    {
     "data": {
      "text/plain": [
       "0            954.0\n",
       "1           2500.0\n",
       "2              0.0\n",
       "3              0.0\n",
       "4              0.0\n",
       "5              0.0\n",
       "6              0.0\n",
       "7           1061.0\n",
       "8              0.0\n",
       "9              0.0\n",
       "10             0.0\n",
       "11          1061.0\n",
       "12          1061.0\n",
       "13          1061.0\n",
       "14          1026.0\n",
       "15          1061.0\n",
       "16          1061.0\n",
       "17          1700.0\n",
       "18          1026.0\n",
       "19          1061.0\n",
       "20          1026.0\n",
       "21          5000.0\n",
       "22          1000.0\n",
       "23          2123.0\n",
       "24          2123.0\n",
       "25          1200.0\n",
       "26           991.0\n",
       "27          1061.0\n",
       "28          1061.0\n",
       "29          1061.0\n",
       "            ...   \n",
       "2256722      972.0\n",
       "2256723     1099.0\n",
       "2256724      990.0\n",
       "2256725     3000.0\n",
       "2256726     1021.0\n",
       "2256727     5475.0\n",
       "2256728     5798.0\n",
       "2256729    10849.0\n",
       "2256730    16079.0\n",
       "2256731     1281.0\n",
       "2256732     1074.0\n",
       "2256733     1074.0\n",
       "2256734     3066.0\n",
       "2256735     1043.0\n",
       "2256736     1043.0\n",
       "2256737     3615.0\n",
       "2256738     1043.0\n",
       "2256739      999.0\n",
       "2256740     1005.0\n",
       "2256741     1033.0\n",
       "2256742     1043.0\n",
       "2256743     1005.0\n",
       "2256744     1222.0\n",
       "2256745     2641.0\n",
       "2256746     5724.0\n",
       "2256747     5510.0\n",
       "2256748      954.0\n",
       "2256749     1000.0\n",
       "2256750     1365.0\n",
       "2256751      996.0\n",
       "Name: Salário Mensal, Length: 2256752, dtype: float64"
      ]
     },
     "execution_count": 12,
     "metadata": {},
     "output_type": "execute_result"
    }
   ],
   "source": [
    "dados['Salário Mensal']"
   ]
  },
  {
   "cell_type": "code",
   "execution_count": 13,
   "metadata": {
    "colab": {
     "base_uri": "https://localhost:8080/",
     "height": 34
    },
    "colab_type": "code",
    "executionInfo": {
     "elapsed": 980,
     "status": "ok",
     "timestamp": 1570226743978,
     "user": {
      "displayName": "Luciano do Nascimento Caldas",
      "photoUrl": "",
      "userId": "03400218546262222907"
     },
     "user_tz": 180
    },
    "id": "w2N5VAaExgzB",
    "outputId": "5440d205-b8f6-4335-ce14-77fe7a75ea62"
   },
   "outputs": [
    {
     "data": {
      "text/plain": [
       "pandas.core.series.Series"
      ]
     },
     "execution_count": 13,
     "metadata": {},
     "output_type": "execute_result"
    }
   ],
   "source": [
    "type(dados['Salário Mensal'])"
   ]
  },
  {
   "cell_type": "code",
   "execution_count": 14,
   "metadata": {
    "colab": {
     "base_uri": "https://localhost:8080/",
     "height": 844
    },
    "colab_type": "code",
    "executionInfo": {
     "elapsed": 582,
     "status": "ok",
     "timestamp": 1570226746120,
     "user": {
      "displayName": "Luciano do Nascimento Caldas",
      "photoUrl": "",
      "userId": "03400218546262222907"
     },
     "user_tz": 180
    },
    "id": "9q0SJDpaxgzE",
    "outputId": "bb86d258-0b66-4842-8eb1-a09b5ac54fd6"
   },
   "outputs": [
    {
     "name": "stdout",
     "output_type": "stream",
     "text": [
      "<class 'pandas.core.frame.DataFrame'>\n",
      "RangeIndex: 2256752 entries, 0 to 2256751\n",
      "Data columns (total 42 columns):\n",
      "Admitidos/Desligados     int64\n",
      "Competência Declarada    int64\n",
      "Município                int64\n",
      "Ano Declarado            int64\n",
      "CBO 2002 Ocupação        int64\n",
      "CNAE 1.0 Classe          int64\n",
      "CNAE 2.0 Classe          int64\n",
      "CNAE 2.0 Subclas         int64\n",
      "Faixa Empr Início Jan    int64\n",
      "Grau Instrução           int64\n",
      "Qtd Hora Contrat         int64\n",
      "IBGE Subsetor            int64\n",
      "Idade                    int64\n",
      "Ind Aprendiz             int64\n",
      "Ind Portador Defic       int64\n",
      "Raça Cor                 int64\n",
      "Salário Mensal           float64\n",
      "Saldo Mov                int64\n",
      "Sexo                     int64\n",
      "Tempo Emprego            float64\n",
      "Tipo Estab               int64\n",
      "Tipo Defic               int64\n",
      "Tipo Mov Desagregado     int64\n",
      "UF                       int64\n",
      "Bairros SP               object\n",
      "Bairros Fortaleza        object\n",
      "Bairros RJ               object\n",
      "Distritos SP             object\n",
      "Regiões Adm DF           int64\n",
      "Mesorregião              int64\n",
      "Microrregião             int64\n",
      "Região Adm RJ            object\n",
      "Região Adm SP            object\n",
      "Região Corede            object\n",
      "Região Corede 04         object\n",
      "Região Gov SP            object\n",
      "Região Senac PR          object\n",
      "Região Senai PR          object\n",
      "Região Senai SP          object\n",
      "Sub-Região Senai PR      object\n",
      "Ind Trab Parcial         int64\n",
      "Ind Trab Intermitente    int64\n",
      "dtypes: float64(2), int64(27), object(13)\n",
      "memory usage: 723.1+ MB\n"
     ]
    }
   ],
   "source": [
    "dados.info()"
   ]
  },
  {
   "cell_type": "markdown",
   "metadata": {},
   "source": [
    "CRIANDO UM NOVO DF APENAS COM AS VARIAVEIS DE ESTUDO. \n",
    "\n",
    "Realizamos então a criação de um df (dados_estudo, apenas com as variaveis de Salario, Raça Cor , Idade, Grau de instrução e Sexo para realizarmos então as transformaçoes. "
   ]
  },
  {
   "cell_type": "code",
   "execution_count": 33,
   "metadata": {
    "colab": {},
    "colab_type": "code",
    "id": "Z-evWnWc0leb"
   },
   "outputs": [],
   "source": [
    "dados_estudo = dados[['Salário Mensal','Idade','Raça Cor','Grau Instrução','Sexo']]"
   ]
  },
  {
   "cell_type": "code",
   "execution_count": 182,
   "metadata": {
    "scrolled": true
   },
   "outputs": [
    {
     "data": {
      "text/html": [
       "<style  type=\"text/css\" >\n",
       "    #T_739e6180_ee1c_11e9_991b_704d7bd15535row0_col0 {\n",
       "            background-color:  #b40426;\n",
       "            color:  #f1f1f1;\n",
       "        }    #T_739e6180_ee1c_11e9_991b_704d7bd15535row0_col1 {\n",
       "            background-color:  #80a3fa;\n",
       "            color:  #000000;\n",
       "        }    #T_739e6180_ee1c_11e9_991b_704d7bd15535row0_col2 {\n",
       "            background-color:  #3b4cc0;\n",
       "            color:  #f1f1f1;\n",
       "        }    #T_739e6180_ee1c_11e9_991b_704d7bd15535row0_col3 {\n",
       "            background-color:  #8badfd;\n",
       "            color:  #000000;\n",
       "        }    #T_739e6180_ee1c_11e9_991b_704d7bd15535row0_col4 {\n",
       "            background-color:  #445acc;\n",
       "            color:  #f1f1f1;\n",
       "        }    #T_739e6180_ee1c_11e9_991b_704d7bd15535row0_col5 {\n",
       "            background-color:  #e2dad5;\n",
       "            color:  #000000;\n",
       "        }    #T_739e6180_ee1c_11e9_991b_704d7bd15535row0_col6 {\n",
       "            background-color:  #82a6fb;\n",
       "            color:  #000000;\n",
       "        }    #T_739e6180_ee1c_11e9_991b_704d7bd15535row1_col0 {\n",
       "            background-color:  #88abfd;\n",
       "            color:  #000000;\n",
       "        }    #T_739e6180_ee1c_11e9_991b_704d7bd15535row1_col1 {\n",
       "            background-color:  #b40426;\n",
       "            color:  #f1f1f1;\n",
       "        }    #T_739e6180_ee1c_11e9_991b_704d7bd15535row1_col2 {\n",
       "            background-color:  #4f69d9;\n",
       "            color:  #000000;\n",
       "        }    #T_739e6180_ee1c_11e9_991b_704d7bd15535row1_col3 {\n",
       "            background-color:  #3b4cc0;\n",
       "            color:  #f1f1f1;\n",
       "        }    #T_739e6180_ee1c_11e9_991b_704d7bd15535row1_col4 {\n",
       "            background-color:  #465ecf;\n",
       "            color:  #f1f1f1;\n",
       "        }    #T_739e6180_ee1c_11e9_991b_704d7bd15535row1_col5 {\n",
       "            background-color:  #a3c2fe;\n",
       "            color:  #000000;\n",
       "        }    #T_739e6180_ee1c_11e9_991b_704d7bd15535row1_col6 {\n",
       "            background-color:  #bd1f2d;\n",
       "            color:  #f1f1f1;\n",
       "        }    #T_739e6180_ee1c_11e9_991b_704d7bd15535row2_col0 {\n",
       "            background-color:  #465ecf;\n",
       "            color:  #f1f1f1;\n",
       "        }    #T_739e6180_ee1c_11e9_991b_704d7bd15535row2_col1 {\n",
       "            background-color:  #516ddb;\n",
       "            color:  #000000;\n",
       "        }    #T_739e6180_ee1c_11e9_991b_704d7bd15535row2_col2 {\n",
       "            background-color:  #b40426;\n",
       "            color:  #f1f1f1;\n",
       "        }    #T_739e6180_ee1c_11e9_991b_704d7bd15535row2_col3 {\n",
       "            background-color:  #4a63d3;\n",
       "            color:  #f1f1f1;\n",
       "        }    #T_739e6180_ee1c_11e9_991b_704d7bd15535row2_col4 {\n",
       "            background-color:  #4b64d5;\n",
       "            color:  #f1f1f1;\n",
       "        }    #T_739e6180_ee1c_11e9_991b_704d7bd15535row2_col5 {\n",
       "            background-color:  #3b4cc0;\n",
       "            color:  #f1f1f1;\n",
       "        }    #T_739e6180_ee1c_11e9_991b_704d7bd15535row2_col6 {\n",
       "            background-color:  #5470de;\n",
       "            color:  #000000;\n",
       "        }    #T_739e6180_ee1c_11e9_991b_704d7bd15535row3_col0 {\n",
       "            background-color:  #93b5fe;\n",
       "            color:  #000000;\n",
       "        }    #T_739e6180_ee1c_11e9_991b_704d7bd15535row3_col1 {\n",
       "            background-color:  #3b4cc0;\n",
       "            color:  #f1f1f1;\n",
       "        }    #T_739e6180_ee1c_11e9_991b_704d7bd15535row3_col2 {\n",
       "            background-color:  #485fd1;\n",
       "            color:  #f1f1f1;\n",
       "        }    #T_739e6180_ee1c_11e9_991b_704d7bd15535row3_col3 {\n",
       "            background-color:  #b40426;\n",
       "            color:  #f1f1f1;\n",
       "        }    #T_739e6180_ee1c_11e9_991b_704d7bd15535row3_col4 {\n",
       "            background-color:  #98b9ff;\n",
       "            color:  #000000;\n",
       "        }    #T_739e6180_ee1c_11e9_991b_704d7bd15535row3_col5 {\n",
       "            background-color:  #8fb1fe;\n",
       "            color:  #000000;\n",
       "        }    #T_739e6180_ee1c_11e9_991b_704d7bd15535row3_col6 {\n",
       "            background-color:  #4358cb;\n",
       "            color:  #f1f1f1;\n",
       "        }    #T_739e6180_ee1c_11e9_991b_704d7bd15535row4_col0 {\n",
       "            background-color:  #4e68d8;\n",
       "            color:  #000000;\n",
       "        }    #T_739e6180_ee1c_11e9_991b_704d7bd15535row4_col1 {\n",
       "            background-color:  #485fd1;\n",
       "            color:  #f1f1f1;\n",
       "        }    #T_739e6180_ee1c_11e9_991b_704d7bd15535row4_col2 {\n",
       "            background-color:  #4961d2;\n",
       "            color:  #f1f1f1;\n",
       "        }    #T_739e6180_ee1c_11e9_991b_704d7bd15535row4_col3 {\n",
       "            background-color:  #9abbff;\n",
       "            color:  #000000;\n",
       "        }    #T_739e6180_ee1c_11e9_991b_704d7bd15535row4_col4 {\n",
       "            background-color:  #b40426;\n",
       "            color:  #f1f1f1;\n",
       "        }    #T_739e6180_ee1c_11e9_991b_704d7bd15535row4_col5 {\n",
       "            background-color:  #3b4cc0;\n",
       "            color:  #f1f1f1;\n",
       "        }    #T_739e6180_ee1c_11e9_991b_704d7bd15535row4_col6 {\n",
       "            background-color:  #485fd1;\n",
       "            color:  #f1f1f1;\n",
       "        }    #T_739e6180_ee1c_11e9_991b_704d7bd15535row5_col0 {\n",
       "            background-color:  #e7d7ce;\n",
       "            color:  #000000;\n",
       "        }    #T_739e6180_ee1c_11e9_991b_704d7bd15535row5_col1 {\n",
       "            background-color:  #a6c4fe;\n",
       "            color:  #000000;\n",
       "        }    #T_739e6180_ee1c_11e9_991b_704d7bd15535row5_col2 {\n",
       "            background-color:  #3b4cc0;\n",
       "            color:  #f1f1f1;\n",
       "        }    #T_739e6180_ee1c_11e9_991b_704d7bd15535row5_col3 {\n",
       "            background-color:  #92b4fe;\n",
       "            color:  #000000;\n",
       "        }    #T_739e6180_ee1c_11e9_991b_704d7bd15535row5_col4 {\n",
       "            background-color:  #3c4ec2;\n",
       "            color:  #f1f1f1;\n",
       "        }    #T_739e6180_ee1c_11e9_991b_704d7bd15535row5_col5 {\n",
       "            background-color:  #b40426;\n",
       "            color:  #f1f1f1;\n",
       "        }    #T_739e6180_ee1c_11e9_991b_704d7bd15535row5_col6 {\n",
       "            background-color:  #b2ccfb;\n",
       "            color:  #000000;\n",
       "        }    #T_739e6180_ee1c_11e9_991b_704d7bd15535row6_col0 {\n",
       "            background-color:  #82a6fb;\n",
       "            color:  #000000;\n",
       "        }    #T_739e6180_ee1c_11e9_991b_704d7bd15535row6_col1 {\n",
       "            background-color:  #bd1f2d;\n",
       "            color:  #f1f1f1;\n",
       "        }    #T_739e6180_ee1c_11e9_991b_704d7bd15535row6_col2 {\n",
       "            background-color:  #4961d2;\n",
       "            color:  #f1f1f1;\n",
       "        }    #T_739e6180_ee1c_11e9_991b_704d7bd15535row6_col3 {\n",
       "            background-color:  #3b4cc0;\n",
       "            color:  #f1f1f1;\n",
       "        }    #T_739e6180_ee1c_11e9_991b_704d7bd15535row6_col4 {\n",
       "            background-color:  #3e51c5;\n",
       "            color:  #f1f1f1;\n",
       "        }    #T_739e6180_ee1c_11e9_991b_704d7bd15535row6_col5 {\n",
       "            background-color:  #a9c6fd;\n",
       "            color:  #000000;\n",
       "        }    #T_739e6180_ee1c_11e9_991b_704d7bd15535row6_col6 {\n",
       "            background-color:  #b40426;\n",
       "            color:  #f1f1f1;\n",
       "        }</style><table id=\"T_739e6180_ee1c_11e9_991b_704d7bd15535\" ><thead>    <tr>        <th class=\"blank level0\" ></th>        <th class=\"col_heading level0 col0\" >Salário Mensal</th>        <th class=\"col_heading level0 col1\" >Idade</th>        <th class=\"col_heading level0 col2\" >Raça Cor</th>        <th class=\"col_heading level0 col3\" >Grau Instrução</th>        <th class=\"col_heading level0 col4\" >Sexo</th>        <th class=\"col_heading level0 col5\" >Salario_Normalizado</th>        <th class=\"col_heading level0 col6\" >Idade_Normalizada</th>    </tr></thead><tbody>\n",
       "                <tr>\n",
       "                        <th id=\"T_739e6180_ee1c_11e9_991b_704d7bd15535level0_row0\" class=\"row_heading level0 row0\" >Salário Mensal</th>\n",
       "                        <td id=\"T_739e6180_ee1c_11e9_991b_704d7bd15535row0_col0\" class=\"data row0 col0\" >1.0</td>\n",
       "                        <td id=\"T_739e6180_ee1c_11e9_991b_704d7bd15535row0_col1\" class=\"data row0 col1\" >0.15</td>\n",
       "                        <td id=\"T_739e6180_ee1c_11e9_991b_704d7bd15535row0_col2\" class=\"data row0 col2\" >-0.078</td>\n",
       "                        <td id=\"T_739e6180_ee1c_11e9_991b_704d7bd15535row0_col3\" class=\"data row0 col3\" >0.18</td>\n",
       "                        <td id=\"T_739e6180_ee1c_11e9_991b_704d7bd15535row0_col4\" class=\"data row0 col4\" >-0.042</td>\n",
       "                        <td id=\"T_739e6180_ee1c_11e9_991b_704d7bd15535row0_col5\" class=\"data row0 col5\" >0.48</td>\n",
       "                        <td id=\"T_739e6180_ee1c_11e9_991b_704d7bd15535row0_col6\" class=\"data row0 col6\" >0.16</td>\n",
       "            </tr>\n",
       "            <tr>\n",
       "                        <th id=\"T_739e6180_ee1c_11e9_991b_704d7bd15535level0_row1\" class=\"row_heading level0 row1\" >Idade</th>\n",
       "                        <td id=\"T_739e6180_ee1c_11e9_991b_704d7bd15535row1_col0\" class=\"data row1 col0\" >0.15</td>\n",
       "                        <td id=\"T_739e6180_ee1c_11e9_991b_704d7bd15535row1_col1\" class=\"data row1 col1\" >1.0</td>\n",
       "                        <td id=\"T_739e6180_ee1c_11e9_991b_704d7bd15535row1_col2\" class=\"data row1 col2\" >-0.037</td>\n",
       "                        <td id=\"T_739e6180_ee1c_11e9_991b_704d7bd15535row1_col3\" class=\"data row1 col3\" >-0.11</td>\n",
       "                        <td id=\"T_739e6180_ee1c_11e9_991b_704d7bd15535row1_col4\" class=\"data row1 col4\" >-0.066</td>\n",
       "                        <td id=\"T_739e6180_ee1c_11e9_991b_704d7bd15535row1_col5\" class=\"data row1 col5\" >0.24</td>\n",
       "                        <td id=\"T_739e6180_ee1c_11e9_991b_704d7bd15535row1_col6\" class=\"data row1 col6\" >0.97</td>\n",
       "            </tr>\n",
       "            <tr>\n",
       "                        <th id=\"T_739e6180_ee1c_11e9_991b_704d7bd15535level0_row2\" class=\"row_heading level0 row2\" >Raça Cor</th>\n",
       "                        <td id=\"T_739e6180_ee1c_11e9_991b_704d7bd15535row2_col0\" class=\"data row2 col0\" >-0.078</td>\n",
       "                        <td id=\"T_739e6180_ee1c_11e9_991b_704d7bd15535row2_col1\" class=\"data row2 col1\" >-0.037</td>\n",
       "                        <td id=\"T_739e6180_ee1c_11e9_991b_704d7bd15535row2_col2\" class=\"data row2 col2\" >1.0</td>\n",
       "                        <td id=\"T_739e6180_ee1c_11e9_991b_704d7bd15535row2_col3\" class=\"data row2 col3\" >-0.063</td>\n",
       "                        <td id=\"T_739e6180_ee1c_11e9_991b_704d7bd15535row2_col4\" class=\"data row2 col4\" >-0.059</td>\n",
       "                        <td id=\"T_739e6180_ee1c_11e9_991b_704d7bd15535row2_col5\" class=\"data row2 col5\" >-0.12</td>\n",
       "                        <td id=\"T_739e6180_ee1c_11e9_991b_704d7bd15535row2_col6\" class=\"data row2 col6\" >-0.026</td>\n",
       "            </tr>\n",
       "            <tr>\n",
       "                        <th id=\"T_739e6180_ee1c_11e9_991b_704d7bd15535level0_row3\" class=\"row_heading level0 row3\" >Grau Instrução</th>\n",
       "                        <td id=\"T_739e6180_ee1c_11e9_991b_704d7bd15535row3_col0\" class=\"data row3 col0\" >0.18</td>\n",
       "                        <td id=\"T_739e6180_ee1c_11e9_991b_704d7bd15535row3_col1\" class=\"data row3 col1\" >-0.11</td>\n",
       "                        <td id=\"T_739e6180_ee1c_11e9_991b_704d7bd15535row3_col2\" class=\"data row3 col2\" >-0.063</td>\n",
       "                        <td id=\"T_739e6180_ee1c_11e9_991b_704d7bd15535row3_col3\" class=\"data row3 col3\" >1.0</td>\n",
       "                        <td id=\"T_739e6180_ee1c_11e9_991b_704d7bd15535row3_col4\" class=\"data row3 col4\" >0.21</td>\n",
       "                        <td id=\"T_739e6180_ee1c_11e9_991b_704d7bd15535row3_col5\" class=\"data row3 col5\" >0.17</td>\n",
       "                        <td id=\"T_739e6180_ee1c_11e9_991b_704d7bd15535row3_col6\" class=\"data row3 col6\" >-0.079</td>\n",
       "            </tr>\n",
       "            <tr>\n",
       "                        <th id=\"T_739e6180_ee1c_11e9_991b_704d7bd15535level0_row4\" class=\"row_heading level0 row4\" >Sexo</th>\n",
       "                        <td id=\"T_739e6180_ee1c_11e9_991b_704d7bd15535row4_col0\" class=\"data row4 col0\" >-0.042</td>\n",
       "                        <td id=\"T_739e6180_ee1c_11e9_991b_704d7bd15535row4_col1\" class=\"data row4 col1\" >-0.066</td>\n",
       "                        <td id=\"T_739e6180_ee1c_11e9_991b_704d7bd15535row4_col2\" class=\"data row4 col2\" >-0.059</td>\n",
       "                        <td id=\"T_739e6180_ee1c_11e9_991b_704d7bd15535row4_col3\" class=\"data row4 col3\" >0.21</td>\n",
       "                        <td id=\"T_739e6180_ee1c_11e9_991b_704d7bd15535row4_col4\" class=\"data row4 col4\" >1.0</td>\n",
       "                        <td id=\"T_739e6180_ee1c_11e9_991b_704d7bd15535row4_col5\" class=\"data row4 col5\" >-0.12</td>\n",
       "                        <td id=\"T_739e6180_ee1c_11e9_991b_704d7bd15535row4_col6\" class=\"data row4 col6\" >-0.064</td>\n",
       "            </tr>\n",
       "            <tr>\n",
       "                        <th id=\"T_739e6180_ee1c_11e9_991b_704d7bd15535level0_row5\" class=\"row_heading level0 row5\" >Salario_Normalizado</th>\n",
       "                        <td id=\"T_739e6180_ee1c_11e9_991b_704d7bd15535row5_col0\" class=\"data row5 col0\" >0.48</td>\n",
       "                        <td id=\"T_739e6180_ee1c_11e9_991b_704d7bd15535row5_col1\" class=\"data row5 col1\" >0.24</td>\n",
       "                        <td id=\"T_739e6180_ee1c_11e9_991b_704d7bd15535row5_col2\" class=\"data row5 col2\" >-0.12</td>\n",
       "                        <td id=\"T_739e6180_ee1c_11e9_991b_704d7bd15535row5_col3\" class=\"data row5 col3\" >0.17</td>\n",
       "                        <td id=\"T_739e6180_ee1c_11e9_991b_704d7bd15535row5_col4\" class=\"data row5 col4\" >-0.12</td>\n",
       "                        <td id=\"T_739e6180_ee1c_11e9_991b_704d7bd15535row5_col5\" class=\"data row5 col5\" >1.0</td>\n",
       "                        <td id=\"T_739e6180_ee1c_11e9_991b_704d7bd15535row5_col6\" class=\"data row5 col6\" >0.28</td>\n",
       "            </tr>\n",
       "            <tr>\n",
       "                        <th id=\"T_739e6180_ee1c_11e9_991b_704d7bd15535level0_row6\" class=\"row_heading level0 row6\" >Idade_Normalizada</th>\n",
       "                        <td id=\"T_739e6180_ee1c_11e9_991b_704d7bd15535row6_col0\" class=\"data row6 col0\" >0.16</td>\n",
       "                        <td id=\"T_739e6180_ee1c_11e9_991b_704d7bd15535row6_col1\" class=\"data row6 col1\" >0.97</td>\n",
       "                        <td id=\"T_739e6180_ee1c_11e9_991b_704d7bd15535row6_col2\" class=\"data row6 col2\" >-0.026</td>\n",
       "                        <td id=\"T_739e6180_ee1c_11e9_991b_704d7bd15535row6_col3\" class=\"data row6 col3\" >-0.079</td>\n",
       "                        <td id=\"T_739e6180_ee1c_11e9_991b_704d7bd15535row6_col4\" class=\"data row6 col4\" >-0.064</td>\n",
       "                        <td id=\"T_739e6180_ee1c_11e9_991b_704d7bd15535row6_col5\" class=\"data row6 col5\" >0.28</td>\n",
       "                        <td id=\"T_739e6180_ee1c_11e9_991b_704d7bd15535row6_col6\" class=\"data row6 col6\" >1.0</td>\n",
       "            </tr>\n",
       "    </tbody></table>"
      ],
      "text/plain": [
       "<pandas.io.formats.style.Styler at 0x1fae8567d68>"
      ]
     },
     "execution_count": 182,
     "metadata": {},
     "output_type": "execute_result"
    }
   ],
   "source": [
    "dados_estudo.corr().style.format(\"{:.2}\").background_gradient(cmap=plt.get_cmap('coolwarm'), axis=1)"
   ]
  },
  {
   "cell_type": "markdown",
   "metadata": {},
   "source": [
    "# SALARIO MENSAL \n",
    "\n",
    "Começando os estudos, com a primeira distribuição:"
   ]
  },
  {
   "cell_type": "code",
   "execution_count": 67,
   "metadata": {},
   "outputs": [
    {
     "data": {
      "text/plain": [
       "<matplotlib.axes._subplots.AxesSubplot at 0x1fb15442da0>"
      ]
     },
     "execution_count": 67,
     "metadata": {},
     "output_type": "execute_result"
    },
    {
     "data": {
      "image/png": "[encoded data removed]",
      "text/plain": [
       "<Figure size 432x288 with 1 Axes>"
      ]
     },
     "metadata": {
      "needs_background": "light"
     },
     "output_type": "display_data"
    }
   ],
   "source": [
    "dados_estudo['Salário Mensal'].plot.hist(range=(-100, 40000))"
   ]
  },
  {
   "cell_type": "code",
   "execution_count": 82,
   "metadata": {},
   "outputs": [
    {
     "name": "stdout",
     "output_type": "stream",
     "text": [
      "Media: 1627.2442231135722 Desvio Padrão: 2097.520081974266\n",
      "Salário Min: 0.0\n",
      "Salário máximo: 142830.0\n"
     ]
    }
   ],
   "source": [
    "x = dados_estudo['Salário Mensal']\n",
    "# calculando a média\n",
    "mu = np.mean(x)\n",
    "# calculando o desvio-padrão populacional\n",
    "std = np.std(x)\n",
    "#Imprimindo a média e o desvio-padrão valor min e maximo da variavel estudada\n",
    "print (\"Media:\",mu, \"Desvio Padrão:\",std)\n",
    "print(\"Salário Min:\", dados_estudo['Salário Mensal'].min())\n",
    "print(\"Salário máximo:\", dados_estudo['Salário Mensal'].max())"
   ]
  },
  {
   "cell_type": "code",
   "execution_count": 38,
   "metadata": {
    "colab": {
     "base_uri": "https://localhost:8080/",
     "height": 286
    },
    "colab_type": "code",
    "executionInfo": {
     "elapsed": 1676,
     "status": "ok",
     "timestamp": 1570229727766,
     "user": {
      "displayName": "Luciano do Nascimento Caldas",
      "photoUrl": "",
      "userId": "03400218546262222907"
     },
     "user_tz": 180
    },
    "id": "pY4golk80_3b",
    "outputId": "f2db446e-997e-4b2f-fa5f-c7531ea172d1",
    "scrolled": true
   },
   "outputs": [
    {
     "data": {
      "text/plain": [
       "<matplotlib.axes._subplots.AxesSubplot at 0x1fa92a907b8>"
      ]
     },
     "execution_count": 38,
     "metadata": {},
     "output_type": "execute_result"
    },
    {
     "data": {
      "image/png": "[encoded data removed]",
      "text/plain": [
       "<Figure size 432x288 with 1 Axes>"
      ]
     },
     "metadata": {
      "needs_background": "light"
     },
     "output_type": "display_data"
    }
   ],
   "source": [
    "dados_estudo['Salário Mensal'].plot()\n"
   ]
  },
  {
   "cell_type": "code",
   "execution_count": 356,
   "metadata": {},
   "outputs": [
    {
     "data": {
      "text/plain": [
       "(0.2637892961502075, 0.0)"
      ]
     },
     "execution_count": 356,
     "metadata": {},
     "output_type": "execute_result"
    }
   ],
   "source": [
    "# fazendo o teste de normalidade de shapiro\n",
    "\n",
    "stats.shapiro(dados_estudo['Salário Mensal'])\n"
   ]
  },
  {
   "cell_type": "code",
   "execution_count": 359,
   "metadata": {
    "scrolled": true
   },
   "outputs": [
    {
     "data": {
      "text/plain": [
       "<matplotlib.axes._subplots.AxesSubplot at 0x1fabeb1bd68>"
      ]
     },
     "execution_count": 359,
     "metadata": {},
     "output_type": "execute_result"
    },
    {
     "data": {
      "image/png": "[encoded data removed]",
      "text/plain": [
       "<Figure size 432x288 with 1 Axes>"
      ]
     },
     "metadata": {
      "needs_background": "light"
     },
     "output_type": "display_data"
    }
   ],
   "source": [
    "dados_estudo['log_salario_mensal'] = np.log1p(dados_estudo['Salário Mensal'])\n",
    "dados_estudo['log_salario_mensal'].plot.hist(bins=10)"
   ]
  },
  {
   "cell_type": "code",
   "execution_count": 360,
   "metadata": {},
   "outputs": [
    {
     "data": {
      "text/plain": [
       "(0.5028517246246338, 0.0)"
      ]
     },
     "execution_count": 360,
     "metadata": {},
     "output_type": "execute_result"
    }
   ],
   "source": [
    "resultado_normal = stats.shapiro(dados_estudo['log_salario_mensal'])\n",
    "resultado_normal "
   ]
  },
  {
   "cell_type": "code",
   "execution_count": 361,
   "metadata": {
    "scrolled": true
   },
   "outputs": [
    {
     "data": {
      "text/plain": [
       "<matplotlib.axes._subplots.AxesSubplot at 0x1fac38fa198>"
      ]
     },
     "execution_count": 361,
     "metadata": {},
     "output_type": "execute_result"
    },
    {
     "data": {
      "image/png": "[encoded data removed]",
      "text/plain": [
       "<Figure size 432x288 with 1 Axes>"
      ]
     },
     "metadata": {
      "needs_background": "light"
     },
     "output_type": "display_data"
    }
   ],
   "source": [
    "dados_estudo['log_salario_mensal'] = ( dados_estudo['log_salario_mensal']- dados_estudo['log_salario_mensal'].mean() ) / dados_estudo['log_salario_mensal'].std()\n",
    "dados_estudo['log_salario_mensal'].plot.hist(bins=10)"
   ]
  },
  {
   "cell_type": "code",
   "execution_count": 362,
   "metadata": {
    "scrolled": true
   },
   "outputs": [
    {
     "data": {
      "text/html": [
       "<div>\n",
       "<style scoped>\n",
       "    .dataframe tbody tr th:only-of-type {\n",
       "        vertical-align: middle;\n",
       "    }\n",
       "\n",
       "    .dataframe tbody tr th {\n",
       "        vertical-align: top;\n",
       "    }\n",
       "\n",
       "    .dataframe thead th {\n",
       "        text-align: right;\n",
       "    }\n",
       "</style>\n",
       "<table border=\"1\" class=\"dataframe\">\n",
       "  <thead>\n",
       "    <tr style=\"text-align: right;\">\n",
       "      <th></th>\n",
       "      <th>Salário Mensal</th>\n",
       "      <th>Idade</th>\n",
       "      <th>Raça Cor</th>\n",
       "      <th>Grau Instrução</th>\n",
       "      <th>Salario_Normalizado</th>\n",
       "      <th>Idade_Normalizada</th>\n",
       "      <th>Escolaridade</th>\n",
       "      <th>Sexo</th>\n",
       "      <th>Categoria</th>\n",
       "      <th>raca cor</th>\n",
       "      <th>log_salario</th>\n",
       "      <th>salario_normalizado</th>\n",
       "      <th>log_salario_mensal</th>\n",
       "    </tr>\n",
       "  </thead>\n",
       "  <tbody>\n",
       "    <tr>\n",
       "      <th>0</th>\n",
       "      <td>954.0</td>\n",
       "      <td>24</td>\n",
       "      <td>8</td>\n",
       "      <td>6</td>\n",
       "      <td>-1.324958</td>\n",
       "      <td>-0.601439</td>\n",
       "      <td>Médio Incompleto</td>\n",
       "      <td>Masculino</td>\n",
       "      <td>1</td>\n",
       "      <td>PARDA</td>\n",
       "      <td>NaN</td>\n",
       "      <td>-1.180635</td>\n",
       "      <td>-0.338373</td>\n",
       "    </tr>\n",
       "    <tr>\n",
       "      <th>1</th>\n",
       "      <td>2123.0</td>\n",
       "      <td>31</td>\n",
       "      <td>8</td>\n",
       "      <td>6</td>\n",
       "      <td>1.171267</td>\n",
       "      <td>0.058999</td>\n",
       "      <td>Médio Incompleto</td>\n",
       "      <td>Masculino</td>\n",
       "      <td>1</td>\n",
       "      <td>PARDA</td>\n",
       "      <td>0.084995</td>\n",
       "      <td>1.088712</td>\n",
       "      <td>0.566779</td>\n",
       "    </tr>\n",
       "    <tr>\n",
       "      <th>2</th>\n",
       "      <td>991.0</td>\n",
       "      <td>24</td>\n",
       "      <td>8</td>\n",
       "      <td>6</td>\n",
       "      <td>-1.035790</td>\n",
       "      <td>-0.601439</td>\n",
       "      <td>Médio Incompleto</td>\n",
       "      <td>Masculino</td>\n",
       "      <td>1</td>\n",
       "      <td>PARDA</td>\n",
       "      <td>NaN</td>\n",
       "      <td>-0.917749</td>\n",
       "      <td>-0.295330</td>\n",
       "    </tr>\n",
       "    <tr>\n",
       "      <th>3</th>\n",
       "      <td>1117.0</td>\n",
       "      <td>18</td>\n",
       "      <td>8</td>\n",
       "      <td>6</td>\n",
       "      <td>-0.455640</td>\n",
       "      <td>-1.805023</td>\n",
       "      <td>Médio Incompleto</td>\n",
       "      <td>Masculino</td>\n",
       "      <td>1</td>\n",
       "      <td>PARDA</td>\n",
       "      <td>NaN</td>\n",
       "      <td>-0.390329</td>\n",
       "      <td>-0.159929</td>\n",
       "    </tr>\n",
       "    <tr>\n",
       "      <th>4</th>\n",
       "      <td>1050.0</td>\n",
       "      <td>19</td>\n",
       "      <td>8</td>\n",
       "      <td>6</td>\n",
       "      <td>-0.739737</td>\n",
       "      <td>-1.475269</td>\n",
       "      <td>Médio Incompleto</td>\n",
       "      <td>Masculino</td>\n",
       "      <td>1</td>\n",
       "      <td>PARDA</td>\n",
       "      <td>NaN</td>\n",
       "      <td>-0.648605</td>\n",
       "      <td>-0.229908</td>\n",
       "    </tr>\n",
       "  </tbody>\n",
       "</table>\n",
       "</div>"
      ],
      "text/plain": [
       "   Salário Mensal  Idade  Raça Cor  Grau Instrução  Salario_Normalizado  \\\n",
       "0           954.0     24         8               6            -1.324958   \n",
       "1          2123.0     31         8               6             1.171267   \n",
       "2           991.0     24         8               6            -1.035790   \n",
       "3          1117.0     18         8               6            -0.455640   \n",
       "4          1050.0     19         8               6            -0.739737   \n",
       "\n",
       "   Idade_Normalizada      Escolaridade       Sexo  Categoria raca cor  \\\n",
       "0          -0.601439  Médio Incompleto  Masculino          1    PARDA   \n",
       "1           0.058999  Médio Incompleto  Masculino          1    PARDA   \n",
       "2          -0.601439  Médio Incompleto  Masculino          1    PARDA   \n",
       "3          -1.805023  Médio Incompleto  Masculino          1    PARDA   \n",
       "4          -1.475269  Médio Incompleto  Masculino          1    PARDA   \n",
       "\n",
       "   log_salario  salario_normalizado  log_salario_mensal  \n",
       "0          NaN            -1.180635           -0.338373  \n",
       "1     0.084995             1.088712            0.566779  \n",
       "2          NaN            -0.917749           -0.295330  \n",
       "3          NaN            -0.390329           -0.159929  \n",
       "4          NaN            -0.648605           -0.229908  "
      ]
     },
     "execution_count": 362,
     "metadata": {},
     "output_type": "execute_result"
    }
   ],
   "source": [
    "# verificando os dados\n",
    "dados_estudo.head()"
   ]
  },
  {
   "cell_type": "code",
   "execution_count": 363,
   "metadata": {},
   "outputs": [
    {
     "data": {
      "text/plain": [
       "(0.505557656288147, 0.0)"
      ]
     },
     "execution_count": 363,
     "metadata": {},
     "output_type": "execute_result"
    }
   ],
   "source": [
    "# fazendo o teste de normalidade de shapiro\n",
    "import scipy.stats\n",
    "resultado_normal = stats.shapiro(dados_estudo['log_salario_mensal'])\n",
    "resultado_normal"
   ]
  },
  {
   "cell_type": "code",
   "execution_count": 364,
   "metadata": {},
   "outputs": [
    {
     "data": {
      "text/plain": [
       "(1.2577351315012457e-11, 0.9999997784421976)"
      ]
     },
     "execution_count": 364,
     "metadata": {},
     "output_type": "execute_result"
    }
   ],
   "source": [
    "# definindo uma variável para os dados de salários transformados e normalizados\n",
    "x = dados_estudo['log_salario_mensal']\n",
    "# calculando a média\n",
    "mu = np.mean(x)\n",
    "# calculando o desvio-padrão populacional\n",
    "std = np.std(x)\n",
    "#Imprimindo a média e o desvio-padrão\n",
    "mu,std"
   ]
  },
  {
   "cell_type": "code",
   "execution_count": 365,
   "metadata": {},
   "outputs": [
    {
     "data": {
      "text/plain": [
       "(-1.9599635502821635, 1.959963550307318)"
      ]
     },
     "execution_count": 365,
     "metadata": {},
     "output_type": "execute_result"
    }
   ],
   "source": [
    "# calculando o intervalo de confiança para os dados normalizados\n",
    "# é esperado os valores de z_score\n",
    "scipy.stats.norm.interval(alpha=0.95,loc=mu,scale=std)\n",
    "\n",
    "#alpha é a area total do intervalo de confiança 95% "
   ]
  },
  {
   "cell_type": "code",
   "execution_count": 367,
   "metadata": {},
   "outputs": [
    {
     "data": {
      "text/plain": [
       "(-1.9599635502821635, 1.959963550307318)"
      ]
     },
     "execution_count": 367,
     "metadata": {},
     "output_type": "execute_result"
    }
   ],
   "source": [
    "Z_score_inf = scipy.stats.norm.interval(alpha=0.95,loc=mu,scale=std)[0]\n",
    "Z_score_sup = scipy.stats.norm.interval(alpha=0.95,loc=mu,scale=std)[1]\n",
    "Z_score_inf,Z_score_sup"
   ]
  },
  {
   "cell_type": "code",
   "execution_count": 410,
   "metadata": {
    "scrolled": true
   },
   "outputs": [
    {
     "data": {
      "text/plain": [
       "<matplotlib.axes._subplots.AxesSubplot at 0x1fa8247a2e8>"
      ]
     },
     "execution_count": 410,
     "metadata": {},
     "output_type": "execute_result"
    },
    {
     "data": {
      "image/png": "[encoded data removed]",
      "text/plain": [
       "<Figure size 432x288 with 1 Axes>"
      ]
     },
     "metadata": {
      "needs_background": "light"
     },
     "output_type": "display_data"
    }
   ],
   "source": [
    "dados_estudo.boxplot(column='')"
   ]
  },
  {
   "cell_type": "code",
   "execution_count": 411,
   "metadata": {},
   "outputs": [
    {
     "data": {
      "text/plain": [
       "<matplotlib.axes._subplots.AxesSubplot at 0x1fa825a2978>"
      ]
     },
     "execution_count": 411,
     "metadata": {},
     "output_type": "execute_result"
    },
    {
     "data": {
      "image/png": "[encoded data removed]",
      "text/plain": [
       "<Figure size 432x288 with 1 Axes>"
      ]
     },
     "metadata": {
      "needs_background": "light"
     },
     "output_type": "display_data"
    }
   ],
   "source": [
    "dados_estudo.boxplot(column='Salário Mensal')"
   ]
  },
  {
   "cell_type": "code",
   "execution_count": 412,
   "metadata": {
    "scrolled": false
   },
   "outputs": [
    {
     "data": {
      "text/html": [
       "<div>\n",
       "<style scoped>\n",
       "    .dataframe tbody tr th:only-of-type {\n",
       "        vertical-align: middle;\n",
       "    }\n",
       "\n",
       "    .dataframe tbody tr th {\n",
       "        vertical-align: top;\n",
       "    }\n",
       "\n",
       "    .dataframe thead th {\n",
       "        text-align: right;\n",
       "    }\n",
       "</style>\n",
       "<table border=\"1\" class=\"dataframe\">\n",
       "  <thead>\n",
       "    <tr style=\"text-align: right;\">\n",
       "      <th></th>\n",
       "      <th>Salário Mensal</th>\n",
       "      <th>Idade</th>\n",
       "      <th>Escolaridade</th>\n",
       "      <th>Sexo</th>\n",
       "      <th>raca cor</th>\n",
       "      <th>log_salario_mensal</th>\n",
       "    </tr>\n",
       "  </thead>\n",
       "  <tbody>\n",
       "    <tr>\n",
       "      <th>0</th>\n",
       "      <td>954.0</td>\n",
       "      <td>24</td>\n",
       "      <td>Médio Incompleto</td>\n",
       "      <td>Masculino</td>\n",
       "      <td>PARDA</td>\n",
       "      <td>-0.338373</td>\n",
       "    </tr>\n",
       "    <tr>\n",
       "      <th>1</th>\n",
       "      <td>2123.0</td>\n",
       "      <td>31</td>\n",
       "      <td>Médio Incompleto</td>\n",
       "      <td>Masculino</td>\n",
       "      <td>PARDA</td>\n",
       "      <td>0.566779</td>\n",
       "    </tr>\n",
       "    <tr>\n",
       "      <th>2</th>\n",
       "      <td>991.0</td>\n",
       "      <td>24</td>\n",
       "      <td>Médio Incompleto</td>\n",
       "      <td>Masculino</td>\n",
       "      <td>PARDA</td>\n",
       "      <td>-0.295330</td>\n",
       "    </tr>\n",
       "    <tr>\n",
       "      <th>3</th>\n",
       "      <td>1117.0</td>\n",
       "      <td>18</td>\n",
       "      <td>Médio Incompleto</td>\n",
       "      <td>Masculino</td>\n",
       "      <td>PARDA</td>\n",
       "      <td>-0.159929</td>\n",
       "    </tr>\n",
       "    <tr>\n",
       "      <th>4</th>\n",
       "      <td>1050.0</td>\n",
       "      <td>19</td>\n",
       "      <td>Médio Incompleto</td>\n",
       "      <td>Masculino</td>\n",
       "      <td>PARDA</td>\n",
       "      <td>-0.229908</td>\n",
       "    </tr>\n",
       "  </tbody>\n",
       "</table>\n",
       "</div>"
      ],
      "text/plain": [
       "   Salário Mensal  Idade      Escolaridade       Sexo raca cor  \\\n",
       "0           954.0     24  Médio Incompleto  Masculino    PARDA   \n",
       "1          2123.0     31  Médio Incompleto  Masculino    PARDA   \n",
       "2           991.0     24  Médio Incompleto  Masculino    PARDA   \n",
       "3          1117.0     18  Médio Incompleto  Masculino    PARDA   \n",
       "4          1050.0     19  Médio Incompleto  Masculino    PARDA   \n",
       "\n",
       "   log_salario_mensal  \n",
       "0           -0.338373  \n",
       "1            0.566779  \n",
       "2           -0.295330  \n",
       "3           -0.159929  \n",
       "4           -0.229908  "
      ]
     },
     "execution_count": 412,
     "metadata": {},
     "output_type": "execute_result"
    }
   ],
   "source": [
    "dados_estudo[dados_estudo['log_salario_mensal']<-Z_score_inf].head()"
   ]
  },
  {
   "cell_type": "code",
   "execution_count": 371,
   "metadata": {},
   "outputs": [
    {
     "data": {
      "text/plain": [
       "4.85166173483913e-08"
      ]
     },
     "execution_count": 371,
     "metadata": {},
     "output_type": "execute_result"
    }
   ],
   "source": [
    "scipy.stats.norm(mu, std).sf(dados_estudo['log_salario_mensal'].max())"
   ]
  },
  {
   "cell_type": "code",
   "execution_count": 372,
   "metadata": {},
   "outputs": [
    {
     "data": {
      "text/plain": [
       "0.9999999514833826"
      ]
     },
     "execution_count": 372,
     "metadata": {},
     "output_type": "execute_result"
    }
   ],
   "source": [
    "alpha_max = 1-scipy.stats.norm(mu, std).sf(dados_estudo['log_salario_mensal'].max())\n",
    "alpha_max"
   ]
  },
  {
   "cell_type": "code",
   "execution_count": 374,
   "metadata": {
    "scrolled": true
   },
   "outputs": [
    {
     "data": {
      "image/png": "[encoded data removed]",
      "text/plain": [
       "<Figure size 432x288 with 1 Axes>"
      ]
     },
     "metadata": {
      "needs_background": "light"
     },
     "output_type": "display_data"
    }
   ],
   "source": [
    "df_salario = pd.DataFrame(dados_estudo,columns=[\"log_salario_mensal\"]) \n",
    "import seaborn as sns\n",
    "from scipy.stats import norm\n",
    "ax = sns.distplot(df_salario, fit=norm, kde=False)"
   ]
  },
  {
   "cell_type": "code",
   "execution_count": 407,
   "metadata": {},
   "outputs": [],
   "source": [
    "dados_estudo.drop(columns=[\"Grau Instrução\"], inplace=True)"
   ]
  },
  {
   "cell_type": "code",
   "execution_count": 408,
   "metadata": {},
   "outputs": [
    {
     "data": {
      "text/html": [
       "<div>\n",
       "<style scoped>\n",
       "    .dataframe tbody tr th:only-of-type {\n",
       "        vertical-align: middle;\n",
       "    }\n",
       "\n",
       "    .dataframe tbody tr th {\n",
       "        vertical-align: top;\n",
       "    }\n",
       "\n",
       "    .dataframe thead th {\n",
       "        text-align: right;\n",
       "    }\n",
       "</style>\n",
       "<table border=\"1\" class=\"dataframe\">\n",
       "  <thead>\n",
       "    <tr style=\"text-align: right;\">\n",
       "      <th></th>\n",
       "      <th>Salário Mensal</th>\n",
       "      <th>Idade</th>\n",
       "      <th>Escolaridade</th>\n",
       "      <th>Sexo</th>\n",
       "      <th>raca cor</th>\n",
       "      <th>log_salario_mensal</th>\n",
       "    </tr>\n",
       "  </thead>\n",
       "  <tbody>\n",
       "    <tr>\n",
       "      <th>0</th>\n",
       "      <td>954.0</td>\n",
       "      <td>24</td>\n",
       "      <td>Médio Incompleto</td>\n",
       "      <td>Masculino</td>\n",
       "      <td>PARDA</td>\n",
       "      <td>-0.338373</td>\n",
       "    </tr>\n",
       "    <tr>\n",
       "      <th>1</th>\n",
       "      <td>2123.0</td>\n",
       "      <td>31</td>\n",
       "      <td>Médio Incompleto</td>\n",
       "      <td>Masculino</td>\n",
       "      <td>PARDA</td>\n",
       "      <td>0.566779</td>\n",
       "    </tr>\n",
       "    <tr>\n",
       "      <th>2</th>\n",
       "      <td>991.0</td>\n",
       "      <td>24</td>\n",
       "      <td>Médio Incompleto</td>\n",
       "      <td>Masculino</td>\n",
       "      <td>PARDA</td>\n",
       "      <td>-0.295330</td>\n",
       "    </tr>\n",
       "    <tr>\n",
       "      <th>3</th>\n",
       "      <td>1117.0</td>\n",
       "      <td>18</td>\n",
       "      <td>Médio Incompleto</td>\n",
       "      <td>Masculino</td>\n",
       "      <td>PARDA</td>\n",
       "      <td>-0.159929</td>\n",
       "    </tr>\n",
       "    <tr>\n",
       "      <th>4</th>\n",
       "      <td>1050.0</td>\n",
       "      <td>19</td>\n",
       "      <td>Médio Incompleto</td>\n",
       "      <td>Masculino</td>\n",
       "      <td>PARDA</td>\n",
       "      <td>-0.229908</td>\n",
       "    </tr>\n",
       "  </tbody>\n",
       "</table>\n",
       "</div>"
      ],
      "text/plain": [
       "   Salário Mensal  Idade      Escolaridade       Sexo raca cor  \\\n",
       "0           954.0     24  Médio Incompleto  Masculino    PARDA   \n",
       "1          2123.0     31  Médio Incompleto  Masculino    PARDA   \n",
       "2           991.0     24  Médio Incompleto  Masculino    PARDA   \n",
       "3          1117.0     18  Médio Incompleto  Masculino    PARDA   \n",
       "4          1050.0     19  Médio Incompleto  Masculino    PARDA   \n",
       "\n",
       "   log_salario_mensal  \n",
       "0           -0.338373  \n",
       "1            0.566779  \n",
       "2           -0.295330  \n",
       "3           -0.159929  \n",
       "4           -0.229908  "
      ]
     },
     "execution_count": 408,
     "metadata": {},
     "output_type": "execute_result"
    }
   ],
   "source": [
    "dados_estudo.head()"
   ]
  },
  {
   "cell_type": "code",
   "execution_count": 413,
   "metadata": {
    "scrolled": true
   },
   "outputs": [
    {
     "data": {
      "text/plain": [
       "<matplotlib.axes._subplots.AxesSubplot at 0x1fa825d4be0>"
      ]
     },
     "execution_count": 413,
     "metadata": {},
     "output_type": "execute_result"
    },
    {
     "data": {
      "image/png": "[encoded data removed]",
      "text/plain": [
       "<Figure size 432x288 with 1 Axes>"
      ]
     },
     "metadata": {
      "needs_background": "light"
     },
     "output_type": "display_data"
    }
   ],
   "source": [
    "dados_estudo['cub_salario_mensal'] = ( dados_estudo['Salário Mensal']**(1/3))\n",
    "dados_estudo['cub_salario_mensal'].plot.hist(bins=10)"
   ]
  },
  {
   "cell_type": "code",
   "execution_count": 414,
   "metadata": {
    "scrolled": true
   },
   "outputs": [
    {
     "data": {
      "image/png": "[encoded data removed]",
      "text/plain": [
       "<Figure size 432x288 with 1 Axes>"
      ]
     },
     "metadata": {
      "needs_background": "light"
     },
     "output_type": "display_data"
    }
   ],
   "source": [
    "df_salario = pd.DataFrame(dados_estudo,columns=[\"cub_salario_mensal\"]) \n",
    "import seaborn as sns\n",
    "from scipy.stats import norm\n",
    "ax = sns.distplot(df_salario, fit=norm, kde=False)"
   ]
  },
  {
   "cell_type": "code",
   "execution_count": 417,
   "metadata": {},
   "outputs": [
    {
     "data": {
      "text/plain": [
       "<matplotlib.axes._subplots.AxesSubplot at 0x1fa84391b38>"
      ]
     },
     "execution_count": 417,
     "metadata": {},
     "output_type": "execute_result"
    },
    {
     "data": {
      "image/png": "[encoded data removed]",
      "text/plain": [
       "<Figure size 432x288 with 1 Axes>"
      ]
     },
     "metadata": {
      "needs_background": "light"
     },
     "output_type": "display_data"
    }
   ],
   "source": [
    "dados_estudo['cub_salario_mensal']=(dados_estudo['cub_salario_mensal']-dados_estudo['cub_salario_mensal'].mean()) / dados_estudo['cub_salario_mensal'].std()\n",
    "dados_estudo['cub_salario_mensal'].plot.hist()"
   ]
  },
  {
   "cell_type": "code",
   "execution_count": 418,
   "metadata": {
    "scrolled": true
   },
   "outputs": [
    {
     "data": {
      "text/plain": [
       "(0.7245348691940308, 0.0)"
      ]
     },
     "execution_count": 418,
     "metadata": {},
     "output_type": "execute_result"
    }
   ],
   "source": [
    "resultado_cub = stats.shapiro(dados_estudo['cub_salario_mensal'])\n",
    "resultado_cub "
   ]
  },
  {
   "cell_type": "code",
   "execution_count": 419,
   "metadata": {
    "scrolled": true
   },
   "outputs": [
    {
     "data": {
      "image/png": "[encoded data removed]",
      "text/plain": [
       "<Figure size 432x288 with 1 Axes>"
      ]
     },
     "metadata": {
      "needs_background": "light"
     },
     "output_type": "display_data"
    }
   ],
   "source": [
    "df_salario = pd.DataFrame(dados_estudo,columns=[\"cub_salario_mensal\"]) \n",
    "import seaborn as sns\n",
    "from scipy.stats import norm\n",
    "ax = sns.distplot(df_salario, fit=norm, kde=False)"
   ]
  },
  {
   "cell_type": "code",
   "execution_count": 420,
   "metadata": {},
   "outputs": [
    {
     "data": {
      "text/plain": [
       "(1.2577351315012457e-11, 0.9999997784421976)"
      ]
     },
     "execution_count": 420,
     "metadata": {},
     "output_type": "execute_result"
    }
   ],
   "source": [
    "cubx = dados_estudo['cub_salario_mensal']\n",
    "# calculando a média\n",
    "cubmu = np.mean(x)\n",
    "# calculando o desvio-padrão populacional\n",
    "cubstd = np.std(x)\n",
    "#Imprimindo a média e o desvio-padrão\n",
    "cubmu,cubstd"
   ]
  },
  {
   "cell_type": "code",
   "execution_count": 421,
   "metadata": {},
   "outputs": [
    {
     "data": {
      "text/plain": [
       "(-1.9599635502821635, 1.959963550307318)"
      ]
     },
     "execution_count": 421,
     "metadata": {},
     "output_type": "execute_result"
    }
   ],
   "source": [
    "scipy.stats.norm.interval(alpha=0.95,loc=cubmu,scale=cubstd)\n"
   ]
  },
  {
   "cell_type": "code",
   "execution_count": 422,
   "metadata": {
    "scrolled": true
   },
   "outputs": [
    {
     "data": {
      "text/plain": [
       "<matplotlib.axes._subplots.AxesSubplot at 0x1fac38c3198>"
      ]
     },
     "execution_count": 422,
     "metadata": {},
     "output_type": "execute_result"
    },
    {
     "data": {
      "image/png": "[encoded data removed]",
      "text/plain": [
       "<Figure size 432x288 with 1 Axes>"
      ]
     },
     "metadata": {
      "needs_background": "light"
     },
     "output_type": "display_data"
    }
   ],
   "source": [
    "dados_estudo.boxplot(column='cub_salario_mensal')"
   ]
  },
  {
   "cell_type": "code",
   "execution_count": 423,
   "metadata": {
    "scrolled": true
   },
   "outputs": [
    {
     "data": {
      "text/html": [
       "<div>\n",
       "<style scoped>\n",
       "    .dataframe tbody tr th:only-of-type {\n",
       "        vertical-align: middle;\n",
       "    }\n",
       "\n",
       "    .dataframe tbody tr th {\n",
       "        vertical-align: top;\n",
       "    }\n",
       "\n",
       "    .dataframe thead th {\n",
       "        text-align: right;\n",
       "    }\n",
       "</style>\n",
       "<table border=\"1\" class=\"dataframe\">\n",
       "  <thead>\n",
       "    <tr style=\"text-align: right;\">\n",
       "      <th></th>\n",
       "      <th>Salário Mensal</th>\n",
       "      <th>Idade</th>\n",
       "      <th>Escolaridade</th>\n",
       "      <th>Sexo</th>\n",
       "      <th>raca cor</th>\n",
       "      <th>log_salario_mensal</th>\n",
       "      <th>cub_salario_mensal</th>\n",
       "    </tr>\n",
       "  </thead>\n",
       "  <tbody>\n",
       "    <tr>\n",
       "      <th>724</th>\n",
       "      <td>0.0</td>\n",
       "      <td>25</td>\n",
       "      <td>Médio Incompleto</td>\n",
       "      <td>Masculino</td>\n",
       "      <td>PARDA</td>\n",
       "      <td>-8.108356</td>\n",
       "      <td>-4.589584</td>\n",
       "    </tr>\n",
       "    <tr>\n",
       "      <th>1901</th>\n",
       "      <td>0.0</td>\n",
       "      <td>49</td>\n",
       "      <td>Médio Incompleto</td>\n",
       "      <td>Masculino</td>\n",
       "      <td>PARDA</td>\n",
       "      <td>-8.108356</td>\n",
       "      <td>-4.589584</td>\n",
       "    </tr>\n",
       "    <tr>\n",
       "      <th>1990</th>\n",
       "      <td>0.0</td>\n",
       "      <td>27</td>\n",
       "      <td>Médio Incompleto</td>\n",
       "      <td>Masculino</td>\n",
       "      <td>PARDA</td>\n",
       "      <td>-8.108356</td>\n",
       "      <td>-4.589584</td>\n",
       "    </tr>\n",
       "    <tr>\n",
       "      <th>1992</th>\n",
       "      <td>0.0</td>\n",
       "      <td>27</td>\n",
       "      <td>Médio Incompleto</td>\n",
       "      <td>Masculino</td>\n",
       "      <td>PARDA</td>\n",
       "      <td>-8.108356</td>\n",
       "      <td>-4.589584</td>\n",
       "    </tr>\n",
       "    <tr>\n",
       "      <th>2017</th>\n",
       "      <td>0.0</td>\n",
       "      <td>22</td>\n",
       "      <td>Médio Incompleto</td>\n",
       "      <td>Masculino</td>\n",
       "      <td>PARDA</td>\n",
       "      <td>-8.108356</td>\n",
       "      <td>-4.589584</td>\n",
       "    </tr>\n",
       "  </tbody>\n",
       "</table>\n",
       "</div>"
      ],
      "text/plain": [
       "      Salário Mensal  Idade      Escolaridade       Sexo raca cor  \\\n",
       "724              0.0     25  Médio Incompleto  Masculino    PARDA   \n",
       "1901             0.0     49  Médio Incompleto  Masculino    PARDA   \n",
       "1990             0.0     27  Médio Incompleto  Masculino    PARDA   \n",
       "1992             0.0     27  Médio Incompleto  Masculino    PARDA   \n",
       "2017             0.0     22  Médio Incompleto  Masculino    PARDA   \n",
       "\n",
       "      log_salario_mensal  cub_salario_mensal  \n",
       "724            -8.108356           -4.589584  \n",
       "1901           -8.108356           -4.589584  \n",
       "1990           -8.108356           -4.589584  \n",
       "1992           -8.108356           -4.589584  \n",
       "2017           -8.108356           -4.589584  "
      ]
     },
     "execution_count": 423,
     "metadata": {},
     "output_type": "execute_result"
    }
   ],
   "source": [
    "dados_estudo[dados_estudo['cub_salario_mensal']<-1.95].head()\n"
   ]
  },
  {
   "cell_type": "code",
   "execution_count": 430,
   "metadata": {
    "scrolled": true
   },
   "outputs": [
    {
     "data": {
      "text/html": [
       "<div>\n",
       "<style scoped>\n",
       "    .dataframe tbody tr th:only-of-type {\n",
       "        vertical-align: middle;\n",
       "    }\n",
       "\n",
       "    .dataframe tbody tr th {\n",
       "        vertical-align: top;\n",
       "    }\n",
       "\n",
       "    .dataframe thead th {\n",
       "        text-align: right;\n",
       "    }\n",
       "</style>\n",
       "<table border=\"1\" class=\"dataframe\">\n",
       "  <thead>\n",
       "    <tr style=\"text-align: right;\">\n",
       "      <th></th>\n",
       "      <th>Salário Mensal</th>\n",
       "      <th>Idade</th>\n",
       "      <th>Escolaridade</th>\n",
       "      <th>Sexo</th>\n",
       "      <th>raca cor</th>\n",
       "      <th>log_salario_mensal</th>\n",
       "      <th>cub_salario_mensal</th>\n",
       "    </tr>\n",
       "  </thead>\n",
       "  <tbody>\n",
       "    <tr>\n",
       "      <th>558</th>\n",
       "      <td>5292.0</td>\n",
       "      <td>38</td>\n",
       "      <td>Médio Incompleto</td>\n",
       "      <td>Masculino</td>\n",
       "      <td>PARDA</td>\n",
       "      <td>1.600727</td>\n",
       "      <td>2.553622</td>\n",
       "    </tr>\n",
       "    <tr>\n",
       "      <th>595</th>\n",
       "      <td>5492.0</td>\n",
       "      <td>36</td>\n",
       "      <td>Médio Incompleto</td>\n",
       "      <td>Masculino</td>\n",
       "      <td>PARDA</td>\n",
       "      <td>1.642725</td>\n",
       "      <td>2.642499</td>\n",
       "    </tr>\n",
       "    <tr>\n",
       "      <th>752</th>\n",
       "      <td>6407.0</td>\n",
       "      <td>32</td>\n",
       "      <td>Médio Incompleto</td>\n",
       "      <td>Masculino</td>\n",
       "      <td>PARDA</td>\n",
       "      <td>1.817192</td>\n",
       "      <td>3.023690</td>\n",
       "    </tr>\n",
       "    <tr>\n",
       "      <th>761</th>\n",
       "      <td>5148.0</td>\n",
       "      <td>47</td>\n",
       "      <td>Médio Incompleto</td>\n",
       "      <td>Masculino</td>\n",
       "      <td>PARDA</td>\n",
       "      <td>1.569493</td>\n",
       "      <td>2.488234</td>\n",
       "    </tr>\n",
       "    <tr>\n",
       "      <th>1008</th>\n",
       "      <td>16900.0</td>\n",
       "      <td>27</td>\n",
       "      <td>Médio Incompleto</td>\n",
       "      <td>Masculino</td>\n",
       "      <td>PARDA</td>\n",
       "      <td>2.915392</td>\n",
       "      <td>5.929602</td>\n",
       "    </tr>\n",
       "  </tbody>\n",
       "</table>\n",
       "</div>"
      ],
      "text/plain": [
       "      Salário Mensal  Idade      Escolaridade       Sexo raca cor  \\\n",
       "558           5292.0     38  Médio Incompleto  Masculino    PARDA   \n",
       "595           5492.0     36  Médio Incompleto  Masculino    PARDA   \n",
       "752           6407.0     32  Médio Incompleto  Masculino    PARDA   \n",
       "761           5148.0     47  Médio Incompleto  Masculino    PARDA   \n",
       "1008         16900.0     27  Médio Incompleto  Masculino    PARDA   \n",
       "\n",
       "      log_salario_mensal  cub_salario_mensal  \n",
       "558             1.600727            2.553622  \n",
       "595             1.642725            2.642499  \n",
       "752             1.817192            3.023690  \n",
       "761             1.569493            2.488234  \n",
       "1008            2.915392            5.929602  "
      ]
     },
     "execution_count": 430,
     "metadata": {},
     "output_type": "execute_result"
    }
   ],
   "source": [
    "dados_estudo[dados_estudo['cub_salario_mensal']>1.95].head()\n"
   ]
  },
  {
   "cell_type": "code",
   "execution_count": 436,
   "metadata": {},
   "outputs": [
    {
     "data": {
      "text/html": [
       "<div>\n",
       "<style scoped>\n",
       "    .dataframe tbody tr th:only-of-type {\n",
       "        vertical-align: middle;\n",
       "    }\n",
       "\n",
       "    .dataframe tbody tr th {\n",
       "        vertical-align: top;\n",
       "    }\n",
       "\n",
       "    .dataframe thead th {\n",
       "        text-align: right;\n",
       "    }\n",
       "</style>\n",
       "<table border=\"1\" class=\"dataframe\">\n",
       "  <thead>\n",
       "    <tr style=\"text-align: right;\">\n",
       "      <th></th>\n",
       "      <th>Salário Mensal</th>\n",
       "      <th>Idade</th>\n",
       "      <th>Escolaridade</th>\n",
       "      <th>Sexo</th>\n",
       "      <th>raca cor</th>\n",
       "      <th>log_salario_mensal</th>\n",
       "      <th>cub_salario_mensal</th>\n",
       "    </tr>\n",
       "  </thead>\n",
       "  <tbody>\n",
       "    <tr>\n",
       "      <th>29558</th>\n",
       "      <td>101500.0</td>\n",
       "      <td>24</td>\n",
       "      <td>Médio Incompleto</td>\n",
       "      <td>Masculino</td>\n",
       "      <td>PARDA</td>\n",
       "      <td>4.945383</td>\n",
       "      <td>14.531327</td>\n",
       "    </tr>\n",
       "    <tr>\n",
       "      <th>29560</th>\n",
       "      <td>110000.0</td>\n",
       "      <td>27</td>\n",
       "      <td>Médio Incompleto</td>\n",
       "      <td>Masculino</td>\n",
       "      <td>PARDA</td>\n",
       "      <td>5.036449</td>\n",
       "      <td>15.050837</td>\n",
       "    </tr>\n",
       "    <tr>\n",
       "      <th>37454</th>\n",
       "      <td>121836.0</td>\n",
       "      <td>20</td>\n",
       "      <td>Médio Incompleto</td>\n",
       "      <td>Masculino</td>\n",
       "      <td>PARDA</td>\n",
       "      <td>5.152171</td>\n",
       "      <td>15.731418</td>\n",
       "    </tr>\n",
       "    <tr>\n",
       "      <th>161015</th>\n",
       "      <td>109720.0</td>\n",
       "      <td>25</td>\n",
       "      <td>Médio Completo</td>\n",
       "      <td>Masculino</td>\n",
       "      <td>PARDA</td>\n",
       "      <td>5.033563</td>\n",
       "      <td>15.034158</td>\n",
       "    </tr>\n",
       "    <tr>\n",
       "      <th>245583</th>\n",
       "      <td>130000.0</td>\n",
       "      <td>40</td>\n",
       "      <td>Médio Completo</td>\n",
       "      <td>Masculino</td>\n",
       "      <td>PARDA</td>\n",
       "      <td>5.225614</td>\n",
       "      <td>16.175531</td>\n",
       "    </tr>\n",
       "    <tr>\n",
       "      <th>270812</th>\n",
       "      <td>110000.0</td>\n",
       "      <td>26</td>\n",
       "      <td>Médio Completo</td>\n",
       "      <td>Masculino</td>\n",
       "      <td>PARDA</td>\n",
       "      <td>5.036449</td>\n",
       "      <td>15.050837</td>\n",
       "    </tr>\n",
       "    <tr>\n",
       "      <th>270814</th>\n",
       "      <td>130000.0</td>\n",
       "      <td>24</td>\n",
       "      <td>Médio Completo</td>\n",
       "      <td>Masculino</td>\n",
       "      <td>PARDA</td>\n",
       "      <td>5.225614</td>\n",
       "      <td>16.175531</td>\n",
       "    </tr>\n",
       "    <tr>\n",
       "      <th>270816</th>\n",
       "      <td>120000.0</td>\n",
       "      <td>30</td>\n",
       "      <td>Médio Completo</td>\n",
       "      <td>Masculino</td>\n",
       "      <td>PARDA</td>\n",
       "      <td>5.134977</td>\n",
       "      <td>15.628825</td>\n",
       "    </tr>\n",
       "    <tr>\n",
       "      <th>293149</th>\n",
       "      <td>135809.0</td>\n",
       "      <td>40</td>\n",
       "      <td>Médio Completo</td>\n",
       "      <td>Masculino</td>\n",
       "      <td>PARDA</td>\n",
       "      <td>5.275115</td>\n",
       "      <td>16.480329</td>\n",
       "    </tr>\n",
       "    <tr>\n",
       "      <th>312901</th>\n",
       "      <td>108243.0</td>\n",
       "      <td>25</td>\n",
       "      <td>Médio Completo</td>\n",
       "      <td>Masculino</td>\n",
       "      <td>PARDA</td>\n",
       "      <td>5.018216</td>\n",
       "      <td>14.945705</td>\n",
       "    </tr>\n",
       "    <tr>\n",
       "      <th>372334</th>\n",
       "      <td>115000.0</td>\n",
       "      <td>33</td>\n",
       "      <td>Médio Completo</td>\n",
       "      <td>Masculino</td>\n",
       "      <td>PARDA</td>\n",
       "      <td>5.086784</td>\n",
       "      <td>15.344021</td>\n",
       "    </tr>\n",
       "    <tr>\n",
       "      <th>372337</th>\n",
       "      <td>109000.0</td>\n",
       "      <td>28</td>\n",
       "      <td>Médio Completo</td>\n",
       "      <td>Masculino</td>\n",
       "      <td>PARDA</td>\n",
       "      <td>5.026108</td>\n",
       "      <td>14.991139</td>\n",
       "    </tr>\n",
       "    <tr>\n",
       "      <th>372341</th>\n",
       "      <td>103000.0</td>\n",
       "      <td>30</td>\n",
       "      <td>Médio Completo</td>\n",
       "      <td>Masculino</td>\n",
       "      <td>PARDA</td>\n",
       "      <td>4.961995</td>\n",
       "      <td>14.625058</td>\n",
       "    </tr>\n",
       "    <tr>\n",
       "      <th>405719</th>\n",
       "      <td>113775.0</td>\n",
       "      <td>21</td>\n",
       "      <td>Fundamental Completo</td>\n",
       "      <td>Masculino</td>\n",
       "      <td>PARDA</td>\n",
       "      <td>5.074658</td>\n",
       "      <td>15.272989</td>\n",
       "    </tr>\n",
       "    <tr>\n",
       "      <th>521429</th>\n",
       "      <td>107976.0</td>\n",
       "      <td>29</td>\n",
       "      <td>Médio Incompleto</td>\n",
       "      <td>Feminino</td>\n",
       "      <td>PARDA</td>\n",
       "      <td>5.015420</td>\n",
       "      <td>14.929629</td>\n",
       "    </tr>\n",
       "    <tr>\n",
       "      <th>684940</th>\n",
       "      <td>103070.0</td>\n",
       "      <td>23</td>\n",
       "      <td>Médio Completo</td>\n",
       "      <td>Feminino</td>\n",
       "      <td>PARDA</td>\n",
       "      <td>4.962764</td>\n",
       "      <td>14.629410</td>\n",
       "    </tr>\n",
       "    <tr>\n",
       "      <th>765923</th>\n",
       "      <td>124696.0</td>\n",
       "      <td>33</td>\n",
       "      <td>Fundamental Completo</td>\n",
       "      <td>Feminino</td>\n",
       "      <td>PARDA</td>\n",
       "      <td>5.178445</td>\n",
       "      <td>15.889196</td>\n",
       "    </tr>\n",
       "    <tr>\n",
       "      <th>839920</th>\n",
       "      <td>140000.0</td>\n",
       "      <td>29</td>\n",
       "      <td>Médio Incompleto</td>\n",
       "      <td>Masculino</td>\n",
       "      <td>BRANCA</td>\n",
       "      <td>5.309531</td>\n",
       "      <td>16.694873</td>\n",
       "    </tr>\n",
       "    <tr>\n",
       "      <th>872555</th>\n",
       "      <td>110493.0</td>\n",
       "      <td>64</td>\n",
       "      <td>Superior Incompleto</td>\n",
       "      <td>Masculino</td>\n",
       "      <td>BRANCA</td>\n",
       "      <td>5.041513</td>\n",
       "      <td>15.080135</td>\n",
       "    </tr>\n",
       "    <tr>\n",
       "      <th>890838</th>\n",
       "      <td>113632.0</td>\n",
       "      <td>29</td>\n",
       "      <td>Superior Incompleto</td>\n",
       "      <td>Masculino</td>\n",
       "      <td>BRANCA</td>\n",
       "      <td>5.073234</td>\n",
       "      <td>15.264664</td>\n",
       "    </tr>\n",
       "    <tr>\n",
       "      <th>968302</th>\n",
       "      <td>130265.0</td>\n",
       "      <td>29</td>\n",
       "      <td>Médio Completo</td>\n",
       "      <td>Masculino</td>\n",
       "      <td>BRANCA</td>\n",
       "      <td>5.227920</td>\n",
       "      <td>16.189632</td>\n",
       "    </tr>\n",
       "    <tr>\n",
       "      <th>975669</th>\n",
       "      <td>133320.0</td>\n",
       "      <td>27</td>\n",
       "      <td>Médio Completo</td>\n",
       "      <td>Masculino</td>\n",
       "      <td>BRANCA</td>\n",
       "      <td>5.254170</td>\n",
       "      <td>16.350817</td>\n",
       "    </tr>\n",
       "    <tr>\n",
       "      <th>975670</th>\n",
       "      <td>109080.0</td>\n",
       "      <td>29</td>\n",
       "      <td>Médio Completo</td>\n",
       "      <td>Masculino</td>\n",
       "      <td>BRANCA</td>\n",
       "      <td>5.026939</td>\n",
       "      <td>14.995929</td>\n",
       "    </tr>\n",
       "    <tr>\n",
       "      <th>1019383</th>\n",
       "      <td>139248.0</td>\n",
       "      <td>41</td>\n",
       "      <td>Médio Completo</td>\n",
       "      <td>Masculino</td>\n",
       "      <td>BRANCA</td>\n",
       "      <td>5.303432</td>\n",
       "      <td>16.656695</td>\n",
       "    </tr>\n",
       "    <tr>\n",
       "      <th>1030784</th>\n",
       "      <td>133000.0</td>\n",
       "      <td>23</td>\n",
       "      <td>Médio Completo</td>\n",
       "      <td>Masculino</td>\n",
       "      <td>BRANCA</td>\n",
       "      <td>5.251449</td>\n",
       "      <td>16.334050</td>\n",
       "    </tr>\n",
       "    <tr>\n",
       "      <th>1042741</th>\n",
       "      <td>130487.0</td>\n",
       "      <td>47</td>\n",
       "      <td>Médio Completo</td>\n",
       "      <td>Masculino</td>\n",
       "      <td>BRANCA</td>\n",
       "      <td>5.229848</td>\n",
       "      <td>16.201429</td>\n",
       "    </tr>\n",
       "    <tr>\n",
       "      <th>1042742</th>\n",
       "      <td>130487.0</td>\n",
       "      <td>33</td>\n",
       "      <td>Médio Completo</td>\n",
       "      <td>Masculino</td>\n",
       "      <td>BRANCA</td>\n",
       "      <td>5.229848</td>\n",
       "      <td>16.201429</td>\n",
       "    </tr>\n",
       "    <tr>\n",
       "      <th>1042743</th>\n",
       "      <td>130487.0</td>\n",
       "      <td>29</td>\n",
       "      <td>Médio Completo</td>\n",
       "      <td>Masculino</td>\n",
       "      <td>BRANCA</td>\n",
       "      <td>5.229848</td>\n",
       "      <td>16.201429</td>\n",
       "    </tr>\n",
       "    <tr>\n",
       "      <th>1143634</th>\n",
       "      <td>120000.0</td>\n",
       "      <td>39</td>\n",
       "      <td>Médio Completo</td>\n",
       "      <td>Masculino</td>\n",
       "      <td>BRANCA</td>\n",
       "      <td>5.134977</td>\n",
       "      <td>15.628825</td>\n",
       "    </tr>\n",
       "    <tr>\n",
       "      <th>1143639</th>\n",
       "      <td>130000.0</td>\n",
       "      <td>26</td>\n",
       "      <td>Médio Completo</td>\n",
       "      <td>Masculino</td>\n",
       "      <td>BRANCA</td>\n",
       "      <td>5.225614</td>\n",
       "      <td>16.175531</td>\n",
       "    </tr>\n",
       "    <tr>\n",
       "      <th>...</th>\n",
       "      <td>...</td>\n",
       "      <td>...</td>\n",
       "      <td>...</td>\n",
       "      <td>...</td>\n",
       "      <td>...</td>\n",
       "      <td>...</td>\n",
       "      <td>...</td>\n",
       "    </tr>\n",
       "    <tr>\n",
       "      <th>1522043</th>\n",
       "      <td>130487.0</td>\n",
       "      <td>27</td>\n",
       "      <td>Médio Completo</td>\n",
       "      <td>Feminino</td>\n",
       "      <td>BRANCA</td>\n",
       "      <td>5.229848</td>\n",
       "      <td>16.201429</td>\n",
       "    </tr>\n",
       "    <tr>\n",
       "      <th>1522044</th>\n",
       "      <td>130487.0</td>\n",
       "      <td>25</td>\n",
       "      <td>Médio Completo</td>\n",
       "      <td>Feminino</td>\n",
       "      <td>BRANCA</td>\n",
       "      <td>5.229848</td>\n",
       "      <td>16.201429</td>\n",
       "    </tr>\n",
       "    <tr>\n",
       "      <th>1522045</th>\n",
       "      <td>130487.0</td>\n",
       "      <td>22</td>\n",
       "      <td>Médio Completo</td>\n",
       "      <td>Feminino</td>\n",
       "      <td>BRANCA</td>\n",
       "      <td>5.229848</td>\n",
       "      <td>16.201429</td>\n",
       "    </tr>\n",
       "    <tr>\n",
       "      <th>1522046</th>\n",
       "      <td>130487.0</td>\n",
       "      <td>28</td>\n",
       "      <td>Médio Completo</td>\n",
       "      <td>Feminino</td>\n",
       "      <td>BRANCA</td>\n",
       "      <td>5.229848</td>\n",
       "      <td>16.201429</td>\n",
       "    </tr>\n",
       "    <tr>\n",
       "      <th>1522047</th>\n",
       "      <td>130487.0</td>\n",
       "      <td>39</td>\n",
       "      <td>Médio Completo</td>\n",
       "      <td>Feminino</td>\n",
       "      <td>BRANCA</td>\n",
       "      <td>5.229848</td>\n",
       "      <td>16.201429</td>\n",
       "    </tr>\n",
       "    <tr>\n",
       "      <th>1522049</th>\n",
       "      <td>130487.0</td>\n",
       "      <td>37</td>\n",
       "      <td>Médio Completo</td>\n",
       "      <td>Feminino</td>\n",
       "      <td>BRANCA</td>\n",
       "      <td>5.229848</td>\n",
       "      <td>16.201429</td>\n",
       "    </tr>\n",
       "    <tr>\n",
       "      <th>1522050</th>\n",
       "      <td>130487.0</td>\n",
       "      <td>42</td>\n",
       "      <td>Médio Completo</td>\n",
       "      <td>Feminino</td>\n",
       "      <td>BRANCA</td>\n",
       "      <td>5.229848</td>\n",
       "      <td>16.201429</td>\n",
       "    </tr>\n",
       "    <tr>\n",
       "      <th>1522051</th>\n",
       "      <td>130487.0</td>\n",
       "      <td>32</td>\n",
       "      <td>Médio Completo</td>\n",
       "      <td>Feminino</td>\n",
       "      <td>BRANCA</td>\n",
       "      <td>5.229848</td>\n",
       "      <td>16.201429</td>\n",
       "    </tr>\n",
       "    <tr>\n",
       "      <th>1635470</th>\n",
       "      <td>104940.0</td>\n",
       "      <td>23</td>\n",
       "      <td>Médio Completo</td>\n",
       "      <td>Feminino</td>\n",
       "      <td>BRANCA</td>\n",
       "      <td>4.983125</td>\n",
       "      <td>14.744945</td>\n",
       "    </tr>\n",
       "    <tr>\n",
       "      <th>1731811</th>\n",
       "      <td>130487.0</td>\n",
       "      <td>43</td>\n",
       "      <td>Superior Completo</td>\n",
       "      <td>Feminino</td>\n",
       "      <td>BRANCA</td>\n",
       "      <td>5.229848</td>\n",
       "      <td>16.201429</td>\n",
       "    </tr>\n",
       "    <tr>\n",
       "      <th>1733389</th>\n",
       "      <td>133800.0</td>\n",
       "      <td>36</td>\n",
       "      <td>Superior Completo</td>\n",
       "      <td>Feminino</td>\n",
       "      <td>BRANCA</td>\n",
       "      <td>5.258239</td>\n",
       "      <td>16.375918</td>\n",
       "    </tr>\n",
       "    <tr>\n",
       "      <th>1744749</th>\n",
       "      <td>118015.0</td>\n",
       "      <td>48</td>\n",
       "      <td>Superior Completo</td>\n",
       "      <td>Feminino</td>\n",
       "      <td>BRANCA</td>\n",
       "      <td>5.116089</td>\n",
       "      <td>15.516723</td>\n",
       "    </tr>\n",
       "    <tr>\n",
       "      <th>1746550</th>\n",
       "      <td>135851.0</td>\n",
       "      <td>63</td>\n",
       "      <td>Superior Completo</td>\n",
       "      <td>Feminino</td>\n",
       "      <td>BRANCA</td>\n",
       "      <td>5.275466</td>\n",
       "      <td>16.482501</td>\n",
       "    </tr>\n",
       "    <tr>\n",
       "      <th>1746605</th>\n",
       "      <td>114884.0</td>\n",
       "      <td>32</td>\n",
       "      <td>Superior Completo</td>\n",
       "      <td>Feminino</td>\n",
       "      <td>BRANCA</td>\n",
       "      <td>5.085642</td>\n",
       "      <td>15.337316</td>\n",
       "    </tr>\n",
       "    <tr>\n",
       "      <th>1752426</th>\n",
       "      <td>131355.0</td>\n",
       "      <td>28</td>\n",
       "      <td>Superior Completo</td>\n",
       "      <td>Feminino</td>\n",
       "      <td>BRANCA</td>\n",
       "      <td>5.237356</td>\n",
       "      <td>16.247428</td>\n",
       "    </tr>\n",
       "    <tr>\n",
       "      <th>1777970</th>\n",
       "      <td>100885.0</td>\n",
       "      <td>25</td>\n",
       "      <td>Superior Completo</td>\n",
       "      <td>Feminino</td>\n",
       "      <td>BRANCA</td>\n",
       "      <td>4.938501</td>\n",
       "      <td>14.492630</td>\n",
       "    </tr>\n",
       "    <tr>\n",
       "      <th>1779767</th>\n",
       "      <td>115878.0</td>\n",
       "      <td>26</td>\n",
       "      <td>Superior Completo</td>\n",
       "      <td>Feminino</td>\n",
       "      <td>BRANCA</td>\n",
       "      <td>5.095397</td>\n",
       "      <td>15.394622</td>\n",
       "    </tr>\n",
       "    <tr>\n",
       "      <th>1905386</th>\n",
       "      <td>110000.0</td>\n",
       "      <td>27</td>\n",
       "      <td>Médio Completo</td>\n",
       "      <td>Masculino</td>\n",
       "      <td>NAO IDENT</td>\n",
       "      <td>5.036449</td>\n",
       "      <td>15.050837</td>\n",
       "    </tr>\n",
       "    <tr>\n",
       "      <th>1920056</th>\n",
       "      <td>131599.0</td>\n",
       "      <td>42</td>\n",
       "      <td>Médio Completo</td>\n",
       "      <td>Masculino</td>\n",
       "      <td>NAO IDENT</td>\n",
       "      <td>5.239457</td>\n",
       "      <td>16.260322</td>\n",
       "    </tr>\n",
       "    <tr>\n",
       "      <th>1953483</th>\n",
       "      <td>107551.0</td>\n",
       "      <td>40</td>\n",
       "      <td>Fundamental Completo</td>\n",
       "      <td>Masculino</td>\n",
       "      <td>NAO IDENT</td>\n",
       "      <td>5.010954</td>\n",
       "      <td>14.903986</td>\n",
       "    </tr>\n",
       "    <tr>\n",
       "      <th>1969628</th>\n",
       "      <td>124190.0</td>\n",
       "      <td>33</td>\n",
       "      <td>Superior Completo</td>\n",
       "      <td>Masculino</td>\n",
       "      <td>NAO IDENT</td>\n",
       "      <td>5.173841</td>\n",
       "      <td>15.861458</td>\n",
       "    </tr>\n",
       "    <tr>\n",
       "      <th>2110866</th>\n",
       "      <td>135000.0</td>\n",
       "      <td>31</td>\n",
       "      <td>Médio Incompleto</td>\n",
       "      <td>Masculino</td>\n",
       "      <td>PRETA</td>\n",
       "      <td>5.268350</td>\n",
       "      <td>16.438409</td>\n",
       "    </tr>\n",
       "    <tr>\n",
       "      <th>2133745</th>\n",
       "      <td>132000.0</td>\n",
       "      <td>27</td>\n",
       "      <td>Médio Completo</td>\n",
       "      <td>Masculino</td>\n",
       "      <td>PRETA</td>\n",
       "      <td>5.242903</td>\n",
       "      <td>16.281478</td>\n",
       "    </tr>\n",
       "    <tr>\n",
       "      <th>2137220</th>\n",
       "      <td>118200.0</td>\n",
       "      <td>42</td>\n",
       "      <td>Médio Completo</td>\n",
       "      <td>Masculino</td>\n",
       "      <td>PRETA</td>\n",
       "      <td>5.117863</td>\n",
       "      <td>15.527223</td>\n",
       "    </tr>\n",
       "    <tr>\n",
       "      <th>2148995</th>\n",
       "      <td>109999.0</td>\n",
       "      <td>26</td>\n",
       "      <td>Médio Completo</td>\n",
       "      <td>Masculino</td>\n",
       "      <td>PRETA</td>\n",
       "      <td>5.036439</td>\n",
       "      <td>15.050778</td>\n",
       "    </tr>\n",
       "    <tr>\n",
       "      <th>2150518</th>\n",
       "      <td>111000.0</td>\n",
       "      <td>27</td>\n",
       "      <td>Médio Completo</td>\n",
       "      <td>Masculino</td>\n",
       "      <td>PRETA</td>\n",
       "      <td>5.046697</td>\n",
       "      <td>15.110174</td>\n",
       "    </tr>\n",
       "    <tr>\n",
       "      <th>2157069</th>\n",
       "      <td>120000.0</td>\n",
       "      <td>23</td>\n",
       "      <td>Médio Completo</td>\n",
       "      <td>Masculino</td>\n",
       "      <td>PRETA</td>\n",
       "      <td>5.134977</td>\n",
       "      <td>15.628825</td>\n",
       "    </tr>\n",
       "    <tr>\n",
       "      <th>2233228</th>\n",
       "      <td>121930.0</td>\n",
       "      <td>32</td>\n",
       "      <td>Superior Completo</td>\n",
       "      <td>Feminino</td>\n",
       "      <td>PRETA</td>\n",
       "      <td>5.153044</td>\n",
       "      <td>15.736642</td>\n",
       "    </tr>\n",
       "    <tr>\n",
       "      <th>2251916</th>\n",
       "      <td>135238.0</td>\n",
       "      <td>53</td>\n",
       "      <td>Superior Completo</td>\n",
       "      <td>Masculino</td>\n",
       "      <td>AMARELA</td>\n",
       "      <td>5.270344</td>\n",
       "      <td>16.450759</td>\n",
       "    </tr>\n",
       "    <tr>\n",
       "      <th>2252542</th>\n",
       "      <td>142726.0</td>\n",
       "      <td>40</td>\n",
       "      <td>Superior Incompleto</td>\n",
       "      <td>Feminino</td>\n",
       "      <td>AMARELA</td>\n",
       "      <td>5.331368</td>\n",
       "      <td>16.832132</td>\n",
       "    </tr>\n",
       "  </tbody>\n",
       "</table>\n",
       "<p>149 rows × 7 columns</p>\n",
       "</div>"
      ],
      "text/plain": [
       "         Salário Mensal  Idade          Escolaridade       Sexo   raca cor  \\\n",
       "29558          101500.0     24      Médio Incompleto  Masculino      PARDA   \n",
       "29560          110000.0     27      Médio Incompleto  Masculino      PARDA   \n",
       "37454          121836.0     20      Médio Incompleto  Masculino      PARDA   \n",
       "161015         109720.0     25        Médio Completo  Masculino      PARDA   \n",
       "245583         130000.0     40        Médio Completo  Masculino      PARDA   \n",
       "270812         110000.0     26        Médio Completo  Masculino      PARDA   \n",
       "270814         130000.0     24        Médio Completo  Masculino      PARDA   \n",
       "270816         120000.0     30        Médio Completo  Masculino      PARDA   \n",
       "293149         135809.0     40        Médio Completo  Masculino      PARDA   \n",
       "312901         108243.0     25        Médio Completo  Masculino      PARDA   \n",
       "372334         115000.0     33        Médio Completo  Masculino      PARDA   \n",
       "372337         109000.0     28        Médio Completo  Masculino      PARDA   \n",
       "372341         103000.0     30        Médio Completo  Masculino      PARDA   \n",
       "405719         113775.0     21  Fundamental Completo  Masculino      PARDA   \n",
       "521429         107976.0     29      Médio Incompleto   Feminino      PARDA   \n",
       "684940         103070.0     23        Médio Completo   Feminino      PARDA   \n",
       "765923         124696.0     33  Fundamental Completo   Feminino      PARDA   \n",
       "839920         140000.0     29      Médio Incompleto  Masculino     BRANCA   \n",
       "872555         110493.0     64   Superior Incompleto  Masculino     BRANCA   \n",
       "890838         113632.0     29   Superior Incompleto  Masculino     BRANCA   \n",
       "968302         130265.0     29        Médio Completo  Masculino     BRANCA   \n",
       "975669         133320.0     27        Médio Completo  Masculino     BRANCA   \n",
       "975670         109080.0     29        Médio Completo  Masculino     BRANCA   \n",
       "1019383        139248.0     41        Médio Completo  Masculino     BRANCA   \n",
       "1030784        133000.0     23        Médio Completo  Masculino     BRANCA   \n",
       "1042741        130487.0     47        Médio Completo  Masculino     BRANCA   \n",
       "1042742        130487.0     33        Médio Completo  Masculino     BRANCA   \n",
       "1042743        130487.0     29        Médio Completo  Masculino     BRANCA   \n",
       "1143634        120000.0     39        Médio Completo  Masculino     BRANCA   \n",
       "1143639        130000.0     26        Médio Completo  Masculino     BRANCA   \n",
       "...                 ...    ...                   ...        ...        ...   \n",
       "1522043        130487.0     27        Médio Completo   Feminino     BRANCA   \n",
       "1522044        130487.0     25        Médio Completo   Feminino     BRANCA   \n",
       "1522045        130487.0     22        Médio Completo   Feminino     BRANCA   \n",
       "1522046        130487.0     28        Médio Completo   Feminino     BRANCA   \n",
       "1522047        130487.0     39        Médio Completo   Feminino     BRANCA   \n",
       "1522049        130487.0     37        Médio Completo   Feminino     BRANCA   \n",
       "1522050        130487.0     42        Médio Completo   Feminino     BRANCA   \n",
       "1522051        130487.0     32        Médio Completo   Feminino     BRANCA   \n",
       "1635470        104940.0     23        Médio Completo   Feminino     BRANCA   \n",
       "1731811        130487.0     43     Superior Completo   Feminino     BRANCA   \n",
       "1733389        133800.0     36     Superior Completo   Feminino     BRANCA   \n",
       "1744749        118015.0     48     Superior Completo   Feminino     BRANCA   \n",
       "1746550        135851.0     63     Superior Completo   Feminino     BRANCA   \n",
       "1746605        114884.0     32     Superior Completo   Feminino     BRANCA   \n",
       "1752426        131355.0     28     Superior Completo   Feminino     BRANCA   \n",
       "1777970        100885.0     25     Superior Completo   Feminino     BRANCA   \n",
       "1779767        115878.0     26     Superior Completo   Feminino     BRANCA   \n",
       "1905386        110000.0     27        Médio Completo  Masculino  NAO IDENT   \n",
       "1920056        131599.0     42        Médio Completo  Masculino  NAO IDENT   \n",
       "1953483        107551.0     40  Fundamental Completo  Masculino  NAO IDENT   \n",
       "1969628        124190.0     33     Superior Completo  Masculino  NAO IDENT   \n",
       "2110866        135000.0     31      Médio Incompleto  Masculino      PRETA   \n",
       "2133745        132000.0     27        Médio Completo  Masculino      PRETA   \n",
       "2137220        118200.0     42        Médio Completo  Masculino      PRETA   \n",
       "2148995        109999.0     26        Médio Completo  Masculino      PRETA   \n",
       "2150518        111000.0     27        Médio Completo  Masculino      PRETA   \n",
       "2157069        120000.0     23        Médio Completo  Masculino      PRETA   \n",
       "2233228        121930.0     32     Superior Completo   Feminino      PRETA   \n",
       "2251916        135238.0     53     Superior Completo  Masculino    AMARELA   \n",
       "2252542        142726.0     40   Superior Incompleto   Feminino    AMARELA   \n",
       "\n",
       "         log_salario_mensal  cub_salario_mensal  \n",
       "29558              4.945383           14.531327  \n",
       "29560              5.036449           15.050837  \n",
       "37454              5.152171           15.731418  \n",
       "161015             5.033563           15.034158  \n",
       "245583             5.225614           16.175531  \n",
       "270812             5.036449           15.050837  \n",
       "270814             5.225614           16.175531  \n",
       "270816             5.134977           15.628825  \n",
       "293149             5.275115           16.480329  \n",
       "312901             5.018216           14.945705  \n",
       "372334             5.086784           15.344021  \n",
       "372337             5.026108           14.991139  \n",
       "372341             4.961995           14.625058  \n",
       "405719             5.074658           15.272989  \n",
       "521429             5.015420           14.929629  \n",
       "684940             4.962764           14.629410  \n",
       "765923             5.178445           15.889196  \n",
       "839920             5.309531           16.694873  \n",
       "872555             5.041513           15.080135  \n",
       "890838             5.073234           15.264664  \n",
       "968302             5.227920           16.189632  \n",
       "975669             5.254170           16.350817  \n",
       "975670             5.026939           14.995929  \n",
       "1019383            5.303432           16.656695  \n",
       "1030784            5.251449           16.334050  \n",
       "1042741            5.229848           16.201429  \n",
       "1042742            5.229848           16.201429  \n",
       "1042743            5.229848           16.201429  \n",
       "1143634            5.134977           15.628825  \n",
       "1143639            5.225614           16.175531  \n",
       "...                     ...                 ...  \n",
       "1522043            5.229848           16.201429  \n",
       "1522044            5.229848           16.201429  \n",
       "1522045            5.229848           16.201429  \n",
       "1522046            5.229848           16.201429  \n",
       "1522047            5.229848           16.201429  \n",
       "1522049            5.229848           16.201429  \n",
       "1522050            5.229848           16.201429  \n",
       "1522051            5.229848           16.201429  \n",
       "1635470            4.983125           14.744945  \n",
       "1731811            5.229848           16.201429  \n",
       "1733389            5.258239           16.375918  \n",
       "1744749            5.116089           15.516723  \n",
       "1746550            5.275466           16.482501  \n",
       "1746605            5.085642           15.337316  \n",
       "1752426            5.237356           16.247428  \n",
       "1777970            4.938501           14.492630  \n",
       "1779767            5.095397           15.394622  \n",
       "1905386            5.036449           15.050837  \n",
       "1920056            5.239457           16.260322  \n",
       "1953483            5.010954           14.903986  \n",
       "1969628            5.173841           15.861458  \n",
       "2110866            5.268350           16.438409  \n",
       "2133745            5.242903           16.281478  \n",
       "2137220            5.117863           15.527223  \n",
       "2148995            5.036439           15.050778  \n",
       "2150518            5.046697           15.110174  \n",
       "2157069            5.134977           15.628825  \n",
       "2233228            5.153044           15.736642  \n",
       "2251916            5.270344           16.450759  \n",
       "2252542            5.331368           16.832132  \n",
       "\n",
       "[149 rows x 7 columns]"
      ]
     },
     "execution_count": 436,
     "metadata": {},
     "output_type": "execute_result"
    }
   ],
   "source": [
    "dados_estudo.loc[dados_estudo['Salário Mensal']>100000]"
   ]
  },
  {
   "cell_type": "markdown",
   "metadata": {},
   "source": [
    "APLICANDO CORREÇÃO NA VARIAVEL SALARIO MENSAL\n",
    "\n",
    "Importamos a biblioteca preprocessing e usamos o QuantileTransformer ela transforma uma distribuição de dados em uma normal. Tambem ajuda a reduzir o impacto de outliers. \n",
    "\n"
   ]
  },
  {
   "cell_type": "code",
   "execution_count": 351,
   "metadata": {},
   "outputs": [],
   "source": [
    "#salario= preprocessing.QuantileTransformer(output_distribution = 'normal')\n",
    "#salario_normalizado = salario.fit_transform(np.array(dados_estudo['Salário Mensal']).reshape(-1,1))"
   ]
  },
  {
   "cell_type": "code",
   "execution_count": 353,
   "metadata": {
    "scrolled": false
   },
   "outputs": [
    {
     "data": {
      "image/png": "[encoded data removed]",
      "text/plain": [
       "<Figure size 432x288 with 1 Axes>"
      ]
     },
     "metadata": {
      "needs_background": "light"
     },
     "output_type": "display_data"
    }
   ],
   "source": [
    "#df_salario = pd.DataFrame(salario_normalizado,columns=[\"Salario\"]) \n",
    "#import seaborn as sns\n",
    "#from scipy.stats import norm\n",
    "#ax = sns.distplot(df_salario, fit=norm, kde=False)"
   ]
  },
  {
   "cell_type": "markdown",
   "metadata": {},
   "source": [
    "# Variavel Idade \n",
    "\n",
    "Calculando dados com relação a variavel idade:"
   ]
  },
  {
   "cell_type": "code",
   "execution_count": 409,
   "metadata": {
    "colab": {
     "base_uri": "https://localhost:8080/",
     "height": 286
    },
    "colab_type": "code",
    "executionInfo": {
     "elapsed": 2265,
     "status": "ok",
     "timestamp": 1570231728134,
     "user": {
      "displayName": "Luciano do Nascimento Caldas",
      "photoUrl": "",
      "userId": "03400218546262222907"
     },
     "user_tz": 180
    },
    "id": "984SUbNvGh7H",
    "outputId": "d280fcc0-e6b9-482a-95ef-c4bf7e1ce017",
    "scrolled": true
   },
   "outputs": [
    {
     "data": {
      "text/plain": [
       "<matplotlib.axes._subplots.AxesSubplot at 0x1fa82483048>"
      ]
     },
     "execution_count": 409,
     "metadata": {},
     "output_type": "execute_result"
    },
    {
     "data": {
      "image/png": "[encoded data removed]",
      "text/plain": [
       "<Figure size 432x288 with 1 Axes>"
      ]
     },
     "metadata": {
      "needs_background": "light"
     },
     "output_type": "display_data"
    }
   ],
   "source": [
    "dados_estudo['Idade'].plot.hist()"
   ]
  },
  {
   "cell_type": "code",
   "execution_count": 214,
   "metadata": {},
   "outputs": [
    {
     "data": {
      "image/png": "[encoded data removed]",
      "text/plain": [
       "<Figure size 1800x720 with 1 Axes>"
      ]
     },
     "metadata": {
      "needs_background": "light"
     },
     "output_type": "display_data"
    }
   ],
   "source": [
    "import seaborn as sns\n",
    "plt.figure(figsize=(25,10))\n",
    "sns.countplot(dados_estudo['Idade'])\n",
    "plt.show()"
   ]
  },
  {
   "cell_type": "code",
   "execution_count": 379,
   "metadata": {
    "scrolled": true
   },
   "outputs": [
    {
     "data": {
      "text/plain": [
       "<matplotlib.axes._subplots.AxesSubplot at 0x1fa822cbb70>"
      ]
     },
     "execution_count": 379,
     "metadata": {},
     "output_type": "execute_result"
    },
    {
     "data": {
      "image/png": "[encoded data removed]",
      "text/plain": [
       "<Figure size 432x288 with 1 Axes>"
      ]
     },
     "metadata": {
      "needs_background": "light"
     },
     "output_type": "display_data"
    }
   ],
   "source": [
    "dados_estudo.plot.scatter(y='Idade',x='log_salario_mensal',s = None,alpha=0.99)\n",
    "\n"
   ]
  },
  {
   "cell_type": "code",
   "execution_count": 118,
   "metadata": {
    "colab": {
     "base_uri": "https://localhost:8080/",
     "height": 70
    },
    "colab_type": "code",
    "executionInfo": {
     "elapsed": 556,
     "status": "ok",
     "timestamp": 1570231862586,
     "user": {
      "displayName": "Luciano do Nascimento Caldas",
      "photoUrl": "",
      "userId": "03400218546262222907"
     },
     "user_tz": 180
    },
    "id": "hUCxG2tCGzLg",
    "outputId": "8386667b-3a46-40d3-806b-bbd208e23172"
   },
   "outputs": [
    {
     "name": "stdout",
     "output_type": "stream",
     "text": [
      "Media: 32.314226374896315 E desvio Padrão: 10.96018699385759\n",
      "Idade Min: 10\n",
      "Idade Max: 103\n"
     ]
    }
   ],
   "source": [
    "x = dados_estudo['Idade']\n",
    "# calculando a média\n",
    "idm = np.mean(x)\n",
    "# calculando o desvio-padrão populacional\n",
    "idstd = np.std(x)\n",
    "#Imprimindo a média e o desvio-padrão valor min e maximo da variavel estudada\n",
    "print (\"Media:\",idm, \"E desvio Padrão:\",idstd)\n",
    "print(\"Idade Min:\", dados_estudo['Idade'].min())\n",
    "print(\"Idade Max:\", dados_estudo['Idade'].max())"
   ]
  },
  {
   "cell_type": "code",
   "execution_count": 376,
   "metadata": {
    "scrolled": true
   },
   "outputs": [
    {
     "data": {
      "text/plain": [
       "1.5138797417106726"
      ]
     },
     "execution_count": 376,
     "metadata": {},
     "output_type": "execute_result"
    }
   ],
   "source": [
    "dados_estudo['log_salario_mensal'].cov(dados_estudo['Idade'])"
   ]
  },
  {
   "cell_type": "code",
   "execution_count": 377,
   "metadata": {},
   "outputs": [
    {
     "data": {
      "text/plain": [
       "0.13812532643329714"
      ]
     },
     "execution_count": 377,
     "metadata": {},
     "output_type": "execute_result"
    }
   ],
   "source": [
    "dados_estudo['log_salario_mensal'].corr(dados_estudo['Idade'])"
   ]
  },
  {
   "cell_type": "markdown",
   "metadata": {},
   "source": [
    "# Grau de Instrução \n",
    "\n",
    "Realizando estudos para verificação da variavel com relação a faixa salarial e idade"
   ]
  },
  {
   "cell_type": "code",
   "execution_count": 184,
   "metadata": {},
   "outputs": [],
   "source": [
    "#pd.merge(dados_limpo, grau_instrucao, left_on='Grau Instrução', right_on='codigo')\n",
    "\n",
    "dados_estudo = dados_estudo.merge(grau_instrucao, left_on='Grau Instrução', right_on='codigo')"
   ]
  },
  {
   "cell_type": "code",
   "execution_count": 190,
   "metadata": {},
   "outputs": [
    {
     "name": "stdout",
     "output_type": "stream",
     "text": [
      "<class 'pandas.core.frame.DataFrame'>\n",
      "Int64Index: 2256752 entries, 0 to 2256751\n",
      "Data columns (total 8 columns):\n",
      "Salário Mensal         float64\n",
      "Idade                  int64\n",
      "Raça Cor               int64\n",
      "Grau Instrução         int64\n",
      "Sexo                   int64\n",
      "Salario_Normalizado    float64\n",
      "Idade_Normalizada      float64\n",
      "Escolaridade           object\n",
      "dtypes: float64(3), int64(4), object(1)\n",
      "memory usage: 155.0+ MB\n"
     ]
    }
   ],
   "source": [
    "dados_estudo.info()"
   ]
  },
  {
   "cell_type": "code",
   "execution_count": 186,
   "metadata": {},
   "outputs": [],
   "source": [
    "dados_estudo.drop(columns=[\"codigo\"], inplace=True)"
   ]
  },
  {
   "cell_type": "code",
   "execution_count": 189,
   "metadata": {},
   "outputs": [],
   "source": [
    "dados_estudo.rename(columns={'descricao': 'Escolaridade'}, inplace=True)"
   ]
  },
  {
   "cell_type": "code",
   "execution_count": 195,
   "metadata": {
    "scrolled": true
   },
   "outputs": [
    {
     "data": {
      "text/plain": [
       "<matplotlib.axes._subplots.AxesSubplot at 0x1fabe961320>"
      ]
     },
     "execution_count": 195,
     "metadata": {},
     "output_type": "execute_result"
    },
    {
     "data": {
      "image/png": "[encoded data removed]",
      "text/plain": [
       "<Figure size 432x288 with 1 Axes>"
      ]
     },
     "metadata": {
      "needs_background": "light"
     },
     "output_type": "display_data"
    }
   ],
   "source": [
    "dados_estudo['Grau Instrução'].plot()"
   ]
  },
  {
   "cell_type": "code",
   "execution_count": 380,
   "metadata": {},
   "outputs": [
    {
     "data": {
      "text/plain": [
       "<matplotlib.axes._subplots.AxesSubplot at 0x1fa82327908>"
      ]
     },
     "execution_count": 380,
     "metadata": {},
     "output_type": "execute_result"
    },
    {
     "data": {
      "image/png": "[encoded data removed]",
      "text/plain": [
       "<Figure size 432x288 with 1 Axes>"
      ]
     },
     "metadata": {
      "needs_background": "light"
     },
     "output_type": "display_data"
    }
   ],
   "source": [
    "dados_estudo.plot.scatter(x='Grau Instrução',y='log_salario_mensal')  "
   ]
  },
  {
   "cell_type": "code",
   "execution_count": 210,
   "metadata": {},
   "outputs": [
    {
     "data": {
      "image/png": "[encoded data removed]",
      "text/plain": [
       "<Figure size 1800x720 with 1 Axes>"
      ]
     },
     "metadata": {
      "needs_background": "light"
     },
     "output_type": "display_data"
    }
   ],
   "source": [
    "import seaborn as sns\n",
    "plt.figure(figsize=(25,10))\n",
    "sns.countplot(dados_estudo['Escolaridade'])\n",
    "plt.show()"
   ]
  },
  {
   "cell_type": "code",
   "execution_count": 233,
   "metadata": {},
   "outputs": [
    {
     "data": {
      "text/plain": [
       "6.595547494806696"
      ]
     },
     "execution_count": 233,
     "metadata": {},
     "output_type": "execute_result"
    }
   ],
   "source": [
    "dados_estudo['Grau Instrução'].mean()"
   ]
  },
  {
   "cell_type": "code",
   "execution_count": 381,
   "metadata": {},
   "outputs": [
    {
     "data": {
      "text/plain": [
       "Médio Completo             10528\n",
       "Superior Completo           7436\n",
       "Médio Incompleto            1733\n",
       "Fundamental Completo        1522\n",
       "6ª a 9ª Fundamental          909\n",
       "Superior Incompleto          850\n",
       "Até 5ª Incompleto            670\n",
       "5ª Completo Fundamental      480\n",
       "Analfabeto                   117\n",
       "Name: Escolaridade, dtype: int64"
      ]
     },
     "execution_count": 381,
     "metadata": {},
     "output_type": "execute_result"
    }
   ],
   "source": [
    "dados_estudo[dados_estudo['log_salario_mensal']<-1.95]['Escolaridade'].value_counts()\n"
   ]
  },
  {
   "cell_type": "code",
   "execution_count": 385,
   "metadata": {
    "scrolled": true
   },
   "outputs": [
    {
     "data": {
      "text/plain": [
       "Superior Completo          25488\n",
       "Médio Completo              3123\n",
       "Superior Incompleto          692\n",
       "Médio Incompleto             308\n",
       "Fundamental Completo         305\n",
       "6ª a 9ª Fundamental          112\n",
       "Até 5ª Incompleto             43\n",
       "5ª Completo Fundamental       37\n",
       "Analfabeto                     1\n",
       "Name: Escolaridade, dtype: int64"
      ]
     },
     "execution_count": 385,
     "metadata": {},
     "output_type": "execute_result"
    }
   ],
   "source": [
    "dados_estudo[dados_estudo['log_salario_mensal']>1.95]['Escolaridade'].value_counts()\n"
   ]
  },
  {
   "cell_type": "markdown",
   "metadata": {},
   "source": [
    "# Variavel Sexo \n",
    "\n",
    "Analisando se os homens ganham mais que as mulheres"
   ]
  },
  {
   "cell_type": "code",
   "execution_count": 245,
   "metadata": {
    "scrolled": true
   },
   "outputs": [
    {
     "data": {
      "text/plain": [
       "<matplotlib.axes._subplots.AxesSubplot at 0x1fa88f826d8>"
      ]
     },
     "execution_count": 245,
     "metadata": {},
     "output_type": "execute_result"
    },
    {
     "data": {
      "image/png": "[encoded data removed]",
      "text/plain": [
       "<Figure size 432x288 with 1 Axes>"
      ]
     },
     "metadata": {
      "needs_background": "light"
     },
     "output_type": "display_data"
    }
   ],
   "source": [
    "dados_estudo['Sexo'].plot()"
   ]
  },
  {
   "cell_type": "code",
   "execution_count": 251,
   "metadata": {},
   "outputs": [],
   "source": [
    "dados_estudo = dados_estudo.merge(Sexo, left_on='Sexo', right_on='Categoria')"
   ]
  },
  {
   "cell_type": "code",
   "execution_count": 253,
   "metadata": {},
   "outputs": [],
   "source": [
    "dados_estudo.drop(columns=[\"Sexo_x\"], inplace=True)"
   ]
  },
  {
   "cell_type": "code",
   "execution_count": 257,
   "metadata": {},
   "outputs": [],
   "source": [
    "dados_estudo.rename(columns={'Sexo_y':'Sexo'}, inplace=True)"
   ]
  },
  {
   "cell_type": "code",
   "execution_count": 259,
   "metadata": {},
   "outputs": [
    {
     "name": "stdout",
     "output_type": "stream",
     "text": [
      "<class 'pandas.core.frame.DataFrame'>\n",
      "Int64Index: 2256752 entries, 0 to 2256751\n",
      "Data columns (total 9 columns):\n",
      "Salário Mensal         float64\n",
      "Idade                  int64\n",
      "Raça Cor               int64\n",
      "Grau Instrução         int64\n",
      "Salario_Normalizado    float64\n",
      "Idade_Normalizada      float64\n",
      "Escolaridade           object\n",
      "Sexo                   object\n",
      "Categoria              int64\n",
      "dtypes: float64(3), int64(4), object(2)\n",
      "memory usage: 172.2+ MB\n"
     ]
    }
   ],
   "source": [
    "dados_estudo.info()"
   ]
  },
  {
   "cell_type": "code",
   "execution_count": 262,
   "metadata": {},
   "outputs": [
    {
     "data": {
      "image/png": "[encoded data removed]",
      "text/plain": [
       "<Figure size 1800x720 with 1 Axes>"
      ]
     },
     "metadata": {
      "needs_background": "light"
     },
     "output_type": "display_data"
    }
   ],
   "source": [
    "plt.figure(figsize=(25,10))\n",
    "sns.countplot(dados_estudo['Sexo'])\n",
    "plt.show()"
   ]
  },
  {
   "cell_type": "code",
   "execution_count": 386,
   "metadata": {},
   "outputs": [
    {
     "data": {
      "text/plain": [
       "<matplotlib.axes._subplots.AxesSubplot at 0x1fa82315da0>"
      ]
     },
     "execution_count": 386,
     "metadata": {},
     "output_type": "execute_result"
    },
    {
     "data": {
      "image/png": "[encoded data removed]",
      "text/plain": [
       "<Figure size 432x288 with 1 Axes>"
      ]
     },
     "metadata": {
      "needs_background": "light"
     },
     "output_type": "display_data"
    }
   ],
   "source": [
    "dados_estudo.plot.scatter(x='Categoria',y='log_salario_mensal')"
   ]
  },
  {
   "cell_type": "code",
   "execution_count": 387,
   "metadata": {},
   "outputs": [
    {
     "data": {
      "text/plain": [
       "Masculino    12815\n",
       "Feminino     11430\n",
       "Name: Sexo, dtype: int64"
      ]
     },
     "execution_count": 387,
     "metadata": {},
     "output_type": "execute_result"
    }
   ],
   "source": [
    "dados_estudo[dados_estudo['log_salario_mensal']<-1.95]['Sexo'].value_counts()\n"
   ]
  },
  {
   "cell_type": "code",
   "execution_count": 388,
   "metadata": {},
   "outputs": [
    {
     "data": {
      "text/plain": [
       "Masculino    19913\n",
       "Feminino     10196\n",
       "Name: Sexo, dtype: int64"
      ]
     },
     "execution_count": 388,
     "metadata": {},
     "output_type": "execute_result"
    }
   ],
   "source": [
    "dados_estudo[dados_estudo['log_salario_mensal']>1.95]['Sexo'].value_counts()\n"
   ]
  },
  {
   "cell_type": "code",
   "execution_count": 389,
   "metadata": {
    "scrolled": true
   },
   "outputs": [],
   "source": [
    "homens = dados_estudo.loc[dados_estudo['Categoria'] == 1]\n",
    "\n"
   ]
  },
  {
   "cell_type": "code",
   "execution_count": 304,
   "metadata": {},
   "outputs": [],
   "source": [
    "mulheres = dados_estudo.loc[dados_estudo['Categoria'] == 2]\n"
   ]
  },
  {
   "cell_type": "code",
   "execution_count": 394,
   "metadata": {},
   "outputs": [
    {
     "data": {
      "text/plain": [
       "<matplotlib.axes._subplots.AxesSubplot at 0x1fa82411eb8>"
      ]
     },
     "execution_count": 394,
     "metadata": {},
     "output_type": "execute_result"
    },
    {
     "data": {
      "image/png": "[encoded data removed]",
      "text/plain": [
       "<Figure size 432x288 with 1 Axes>"
      ]
     },
     "metadata": {
      "needs_background": "light"
     },
     "output_type": "display_data"
    }
   ],
   "source": [
    "homens['log_salario_mensal'].plot()"
   ]
  },
  {
   "cell_type": "code",
   "execution_count": 397,
   "metadata": {
    "scrolled": true
   },
   "outputs": [
    {
     "ename": "KeyError",
     "evalue": "'log_salario_mensal'",
     "output_type": "error",
     "traceback": [
      "\u001b[1;31m---------------------------------------------------------------------------\u001b[0m",
      "\u001b[1;31mKeyError\u001b[0m                                  Traceback (most recent call last)",
      "\u001b[1;32mC:\\ProgramData\\Anaconda3\\lib\\site-packages\\pandas\\core\\indexes\\base.py\u001b[0m in \u001b[0;36mget_loc\u001b[1;34m(self, key, method, tolerance)\u001b[0m\n\u001b[0;32m   2656\u001b[0m             \u001b[1;32mtry\u001b[0m\u001b[1;33m:\u001b[0m\u001b[1;33m\u001b[0m\u001b[1;33m\u001b[0m\u001b[0m\n\u001b[1;32m-> 2657\u001b[1;33m                 \u001b[1;32mreturn\u001b[0m \u001b[0mself\u001b[0m\u001b[1;33m.\u001b[0m\u001b[0m_engine\u001b[0m\u001b[1;33m.\u001b[0m\u001b[0mget_loc\u001b[0m\u001b[1;33m(\u001b[0m\u001b[0mkey\u001b[0m\u001b[1;33m)\u001b[0m\u001b[1;33m\u001b[0m\u001b[1;33m\u001b[0m\u001b[0m\n\u001b[0m\u001b[0;32m   2658\u001b[0m             \u001b[1;32mexcept\u001b[0m \u001b[0mKeyError\u001b[0m\u001b[1;33m:\u001b[0m\u001b[1;33m\u001b[0m\u001b[1;33m\u001b[0m\u001b[0m\n",
      "\u001b[1;32mpandas/_libs/index.pyx\u001b[0m in \u001b[0;36mpandas._libs.index.IndexEngine.get_loc\u001b[1;34m()\u001b[0m\n",
      "\u001b[1;32mpandas/_libs/index.pyx\u001b[0m in \u001b[0;36mpandas._libs.index.IndexEngine.get_loc\u001b[1;34m()\u001b[0m\n",
      "\u001b[1;32mpandas/_libs/hashtable_class_helper.pxi\u001b[0m in \u001b[0;36mpandas._libs.hashtable.PyObjectHashTable.get_item\u001b[1;34m()\u001b[0m\n",
      "\u001b[1;32mpandas/_libs/hashtable_class_helper.pxi\u001b[0m in \u001b[0;36mpandas._libs.hashtable.PyObjectHashTable.get_item\u001b[1;34m()\u001b[0m\n",
      "\u001b[1;31mKeyError\u001b[0m: 'log_salario_mensal'",
      "\nDuring handling of the above exception, another exception occurred:\n",
      "\u001b[1;31mKeyError\u001b[0m                                  Traceback (most recent call last)",
      "\u001b[1;32m<ipython-input-397-236a16f480d4>\u001b[0m in \u001b[0;36m<module>\u001b[1;34m\u001b[0m\n\u001b[1;32m----> 1\u001b[1;33m \u001b[0mmulheres\u001b[0m\u001b[1;33m[\u001b[0m\u001b[1;34m'log_salario_mensal'\u001b[0m\u001b[1;33m]\u001b[0m\u001b[1;33m.\u001b[0m\u001b[0mplot\u001b[0m\u001b[1;33m\u001b[0m\u001b[1;33m\u001b[0m\u001b[0m\n\u001b[0m",
      "\u001b[1;32mC:\\ProgramData\\Anaconda3\\lib\\site-packages\\pandas\\core\\frame.py\u001b[0m in \u001b[0;36m__getitem__\u001b[1;34m(self, key)\u001b[0m\n\u001b[0;32m   2925\u001b[0m             \u001b[1;32mif\u001b[0m \u001b[0mself\u001b[0m\u001b[1;33m.\u001b[0m\u001b[0mcolumns\u001b[0m\u001b[1;33m.\u001b[0m\u001b[0mnlevels\u001b[0m \u001b[1;33m>\u001b[0m \u001b[1;36m1\u001b[0m\u001b[1;33m:\u001b[0m\u001b[1;33m\u001b[0m\u001b[1;33m\u001b[0m\u001b[0m\n\u001b[0;32m   2926\u001b[0m                 \u001b[1;32mreturn\u001b[0m \u001b[0mself\u001b[0m\u001b[1;33m.\u001b[0m\u001b[0m_getitem_multilevel\u001b[0m\u001b[1;33m(\u001b[0m\u001b[0mkey\u001b[0m\u001b[1;33m)\u001b[0m\u001b[1;33m\u001b[0m\u001b[1;33m\u001b[0m\u001b[0m\n\u001b[1;32m-> 2927\u001b[1;33m             \u001b[0mindexer\u001b[0m \u001b[1;33m=\u001b[0m \u001b[0mself\u001b[0m\u001b[1;33m.\u001b[0m\u001b[0mcolumns\u001b[0m\u001b[1;33m.\u001b[0m\u001b[0mget_loc\u001b[0m\u001b[1;33m(\u001b[0m\u001b[0mkey\u001b[0m\u001b[1;33m)\u001b[0m\u001b[1;33m\u001b[0m\u001b[1;33m\u001b[0m\u001b[0m\n\u001b[0m\u001b[0;32m   2928\u001b[0m             \u001b[1;32mif\u001b[0m \u001b[0mis_integer\u001b[0m\u001b[1;33m(\u001b[0m\u001b[0mindexer\u001b[0m\u001b[1;33m)\u001b[0m\u001b[1;33m:\u001b[0m\u001b[1;33m\u001b[0m\u001b[1;33m\u001b[0m\u001b[0m\n\u001b[0;32m   2929\u001b[0m                 \u001b[0mindexer\u001b[0m \u001b[1;33m=\u001b[0m \u001b[1;33m[\u001b[0m\u001b[0mindexer\u001b[0m\u001b[1;33m]\u001b[0m\u001b[1;33m\u001b[0m\u001b[1;33m\u001b[0m\u001b[0m\n",
      "\u001b[1;32mC:\\ProgramData\\Anaconda3\\lib\\site-packages\\pandas\\core\\indexes\\base.py\u001b[0m in \u001b[0;36mget_loc\u001b[1;34m(self, key, method, tolerance)\u001b[0m\n\u001b[0;32m   2657\u001b[0m                 \u001b[1;32mreturn\u001b[0m \u001b[0mself\u001b[0m\u001b[1;33m.\u001b[0m\u001b[0m_engine\u001b[0m\u001b[1;33m.\u001b[0m\u001b[0mget_loc\u001b[0m\u001b[1;33m(\u001b[0m\u001b[0mkey\u001b[0m\u001b[1;33m)\u001b[0m\u001b[1;33m\u001b[0m\u001b[1;33m\u001b[0m\u001b[0m\n\u001b[0;32m   2658\u001b[0m             \u001b[1;32mexcept\u001b[0m \u001b[0mKeyError\u001b[0m\u001b[1;33m:\u001b[0m\u001b[1;33m\u001b[0m\u001b[1;33m\u001b[0m\u001b[0m\n\u001b[1;32m-> 2659\u001b[1;33m                 \u001b[1;32mreturn\u001b[0m \u001b[0mself\u001b[0m\u001b[1;33m.\u001b[0m\u001b[0m_engine\u001b[0m\u001b[1;33m.\u001b[0m\u001b[0mget_loc\u001b[0m\u001b[1;33m(\u001b[0m\u001b[0mself\u001b[0m\u001b[1;33m.\u001b[0m\u001b[0m_maybe_cast_indexer\u001b[0m\u001b[1;33m(\u001b[0m\u001b[0mkey\u001b[0m\u001b[1;33m)\u001b[0m\u001b[1;33m)\u001b[0m\u001b[1;33m\u001b[0m\u001b[1;33m\u001b[0m\u001b[0m\n\u001b[0m\u001b[0;32m   2660\u001b[0m         \u001b[0mindexer\u001b[0m \u001b[1;33m=\u001b[0m \u001b[0mself\u001b[0m\u001b[1;33m.\u001b[0m\u001b[0mget_indexer\u001b[0m\u001b[1;33m(\u001b[0m\u001b[1;33m[\u001b[0m\u001b[0mkey\u001b[0m\u001b[1;33m]\u001b[0m\u001b[1;33m,\u001b[0m \u001b[0mmethod\u001b[0m\u001b[1;33m=\u001b[0m\u001b[0mmethod\u001b[0m\u001b[1;33m,\u001b[0m \u001b[0mtolerance\u001b[0m\u001b[1;33m=\u001b[0m\u001b[0mtolerance\u001b[0m\u001b[1;33m)\u001b[0m\u001b[1;33m\u001b[0m\u001b[1;33m\u001b[0m\u001b[0m\n\u001b[0;32m   2661\u001b[0m         \u001b[1;32mif\u001b[0m \u001b[0mindexer\u001b[0m\u001b[1;33m.\u001b[0m\u001b[0mndim\u001b[0m \u001b[1;33m>\u001b[0m \u001b[1;36m1\u001b[0m \u001b[1;32mor\u001b[0m \u001b[0mindexer\u001b[0m\u001b[1;33m.\u001b[0m\u001b[0msize\u001b[0m \u001b[1;33m>\u001b[0m \u001b[1;36m1\u001b[0m\u001b[1;33m:\u001b[0m\u001b[1;33m\u001b[0m\u001b[1;33m\u001b[0m\u001b[0m\n",
      "\u001b[1;32mpandas/_libs/index.pyx\u001b[0m in \u001b[0;36mpandas._libs.index.IndexEngine.get_loc\u001b[1;34m()\u001b[0m\n",
      "\u001b[1;32mpandas/_libs/index.pyx\u001b[0m in \u001b[0;36mpandas._libs.index.IndexEngine.get_loc\u001b[1;34m()\u001b[0m\n",
      "\u001b[1;32mpandas/_libs/hashtable_class_helper.pxi\u001b[0m in \u001b[0;36mpandas._libs.hashtable.PyObjectHashTable.get_item\u001b[1;34m()\u001b[0m\n",
      "\u001b[1;32mpandas/_libs/hashtable_class_helper.pxi\u001b[0m in \u001b[0;36mpandas._libs.hashtable.PyObjectHashTable.get_item\u001b[1;34m()\u001b[0m\n",
      "\u001b[1;31mKeyError\u001b[0m: 'log_salario_mensal'"
     ]
    }
   ],
   "source": [
    "mulheres['log_salario_mensal'].plot"
   ]
  },
  {
   "cell_type": "code",
   "execution_count": 311,
   "metadata": {},
   "outputs": [
    {
     "name": "stderr",
     "output_type": "stream",
     "text": [
      "C:\\ProgramData\\Anaconda3\\lib\\site-packages\\scipy\\stats\\morestats.py:1653: UserWarning: p-value may not be accurate for N > 5000.\n",
      "  warnings.warn(\"p-value may not be accurate for N > 5000.\")\n"
     ]
    },
    {
     "data": {
      "text/plain": [
       "(0.2792696952819824, 0.0)"
      ]
     },
     "execution_count": 311,
     "metadata": {},
     "output_type": "execute_result"
    }
   ],
   "source": [
    "stats.shapiro(homens['Salário Mensal'])\n"
   ]
  },
  {
   "cell_type": "code",
   "execution_count": 314,
   "metadata": {},
   "outputs": [],
   "source": [
    "homem= preprocessing.QuantileTransformer(output_distribution = 'normal')\n",
    "salario_homem = homem.fit_transform(np.array(homens['Salário Mensal']).reshape(-1,1))"
   ]
  },
  {
   "cell_type": "code",
   "execution_count": 315,
   "metadata": {
    "scrolled": true
   },
   "outputs": [
    {
     "data": {
      "image/png": "[encoded data removed]",
      "text/plain": [
       "<Figure size 432x288 with 1 Axes>"
      ]
     },
     "metadata": {
      "needs_background": "light"
     },
     "output_type": "display_data"
    }
   ],
   "source": [
    "df_salario = pd.DataFrame(salario_homem,columns=[\"Salario\"]) \n",
    "import seaborn as sns\n",
    "from scipy.stats import norm\n",
    "ax = sns.distplot(df_salario, fit=norm, kde=False)"
   ]
  },
  {
   "cell_type": "code",
   "execution_count": 318,
   "metadata": {},
   "outputs": [
    {
     "data": {
      "text/plain": [
       "-5.199337582605575"
      ]
     },
     "execution_count": 318,
     "metadata": {},
     "output_type": "execute_result"
    }
   ],
   "source": []
  },
  {
   "cell_type": "markdown",
   "metadata": {},
   "source": [
    "# Variavel Raça Cor \n",
    "\n"
   ]
  },
  {
   "cell_type": "code",
   "execution_count": null,
   "metadata": {},
   "outputs": [],
   "source": []
  },
  {
   "cell_type": "markdown",
   "metadata": {},
   "source": [
    "# Variavel Raça Cor \n",
    "\n"
   ]
  },
  {
   "cell_type": "code",
   "execution_count": 269,
   "metadata": {},
   "outputs": [],
   "source": [
    "dados_estudo = dados_estudo.merge(raca_cor, left_on='Raça Cor', right_on='codigo')"
   ]
  },
  {
   "cell_type": "code",
   "execution_count": 270,
   "metadata": {},
   "outputs": [],
   "source": [
    "dados_estudo.drop(columns=[\"codigo\"], inplace=True)"
   ]
  },
  {
   "cell_type": "code",
   "execution_count": 274,
   "metadata": {},
   "outputs": [
    {
     "data": {
      "text/html": [
       "<div>\n",
       "<style scoped>\n",
       "    .dataframe tbody tr th:only-of-type {\n",
       "        vertical-align: middle;\n",
       "    }\n",
       "\n",
       "    .dataframe tbody tr th {\n",
       "        vertical-align: top;\n",
       "    }\n",
       "\n",
       "    .dataframe thead th {\n",
       "        text-align: right;\n",
       "    }\n",
       "</style>\n",
       "<table border=\"1\" class=\"dataframe\">\n",
       "  <thead>\n",
       "    <tr style=\"text-align: right;\">\n",
       "      <th></th>\n",
       "      <th>Salário Mensal</th>\n",
       "      <th>Idade</th>\n",
       "      <th>Raça Cor</th>\n",
       "      <th>Grau Instrução</th>\n",
       "      <th>Salario_Normalizado</th>\n",
       "      <th>Idade_Normalizada</th>\n",
       "      <th>Escolaridade</th>\n",
       "      <th>Sexo</th>\n",
       "      <th>Categoria</th>\n",
       "      <th>raca cor</th>\n",
       "    </tr>\n",
       "  </thead>\n",
       "  <tbody>\n",
       "    <tr>\n",
       "      <th>0</th>\n",
       "      <td>954.0</td>\n",
       "      <td>24</td>\n",
       "      <td>8</td>\n",
       "      <td>6</td>\n",
       "      <td>-1.324958</td>\n",
       "      <td>-0.601439</td>\n",
       "      <td>Médio Incompleto</td>\n",
       "      <td>Masculino</td>\n",
       "      <td>1</td>\n",
       "      <td>PARDA</td>\n",
       "    </tr>\n",
       "    <tr>\n",
       "      <th>1</th>\n",
       "      <td>2123.0</td>\n",
       "      <td>31</td>\n",
       "      <td>8</td>\n",
       "      <td>6</td>\n",
       "      <td>1.171267</td>\n",
       "      <td>0.058999</td>\n",
       "      <td>Médio Incompleto</td>\n",
       "      <td>Masculino</td>\n",
       "      <td>1</td>\n",
       "      <td>PARDA</td>\n",
       "    </tr>\n",
       "    <tr>\n",
       "      <th>2</th>\n",
       "      <td>991.0</td>\n",
       "      <td>24</td>\n",
       "      <td>8</td>\n",
       "      <td>6</td>\n",
       "      <td>-1.035790</td>\n",
       "      <td>-0.601439</td>\n",
       "      <td>Médio Incompleto</td>\n",
       "      <td>Masculino</td>\n",
       "      <td>1</td>\n",
       "      <td>PARDA</td>\n",
       "    </tr>\n",
       "    <tr>\n",
       "      <th>3</th>\n",
       "      <td>1117.0</td>\n",
       "      <td>18</td>\n",
       "      <td>8</td>\n",
       "      <td>6</td>\n",
       "      <td>-0.455640</td>\n",
       "      <td>-1.805023</td>\n",
       "      <td>Médio Incompleto</td>\n",
       "      <td>Masculino</td>\n",
       "      <td>1</td>\n",
       "      <td>PARDA</td>\n",
       "    </tr>\n",
       "    <tr>\n",
       "      <th>4</th>\n",
       "      <td>1050.0</td>\n",
       "      <td>19</td>\n",
       "      <td>8</td>\n",
       "      <td>6</td>\n",
       "      <td>-0.739737</td>\n",
       "      <td>-1.475269</td>\n",
       "      <td>Médio Incompleto</td>\n",
       "      <td>Masculino</td>\n",
       "      <td>1</td>\n",
       "      <td>PARDA</td>\n",
       "    </tr>\n",
       "  </tbody>\n",
       "</table>\n",
       "</div>"
      ],
      "text/plain": [
       "   Salário Mensal  Idade  Raça Cor  Grau Instrução  Salario_Normalizado  \\\n",
       "0           954.0     24         8               6            -1.324958   \n",
       "1          2123.0     31         8               6             1.171267   \n",
       "2           991.0     24         8               6            -1.035790   \n",
       "3          1117.0     18         8               6            -0.455640   \n",
       "4          1050.0     19         8               6            -0.739737   \n",
       "\n",
       "   Idade_Normalizada      Escolaridade       Sexo  Categoria raca cor  \n",
       "0          -0.601439  Médio Incompleto  Masculino          1    PARDA  \n",
       "1           0.058999  Médio Incompleto  Masculino          1    PARDA  \n",
       "2          -0.601439  Médio Incompleto  Masculino          1    PARDA  \n",
       "3          -1.805023  Médio Incompleto  Masculino          1    PARDA  \n",
       "4          -1.475269  Médio Incompleto  Masculino          1    PARDA  "
      ]
     },
     "execution_count": 274,
     "metadata": {},
     "output_type": "execute_result"
    }
   ],
   "source": [
    "dados_estudo.head()"
   ]
  },
  {
   "cell_type": "code",
   "execution_count": 275,
   "metadata": {},
   "outputs": [
    {
     "data": {
      "image/png": "[encoded data removed]",
      "text/plain": [
       "<Figure size 1800x720 with 1 Axes>"
      ]
     },
     "metadata": {
      "needs_background": "light"
     },
     "output_type": "display_data"
    }
   ],
   "source": [
    "plt.figure(figsize=(25,10))\n",
    "sns.countplot(dados_estudo['raca cor'])\n",
    "plt.show()"
   ]
  },
  {
   "cell_type": "code",
   "execution_count": 276,
   "metadata": {},
   "outputs": [
    {
     "data": {
      "text/plain": [
       "<matplotlib.axes._subplots.AxesSubplot at 0x1fabf0c04a8>"
      ]
     },
     "execution_count": 276,
     "metadata": {},
     "output_type": "execute_result"
    },
    {
     "data": {
      "image/png": "[encoded data removed]",
      "text/plain": [
       "<Figure size 432x288 with 1 Axes>"
      ]
     },
     "metadata": {
      "needs_background": "light"
     },
     "output_type": "display_data"
    }
   ],
   "source": [
    "dados_estudo['Raça Cor'].plot()"
   ]
  },
  {
   "cell_type": "code",
   "execution_count": 281,
   "metadata": {},
   "outputs": [
    {
     "data": {
      "text/plain": [
       "<matplotlib.axes._subplots.AxesSubplot at 0x1fabf17af60>"
      ]
     },
     "execution_count": 281,
     "metadata": {},
     "output_type": "execute_result"
    },
    {
     "data": {
      "image/png": "[encoded data removed]",
      "text/plain": [
       "<Figure size 432x288 with 1 Axes>"
      ]
     },
     "metadata": {
      "needs_background": "light"
     },
     "output_type": "display_data"
    }
   ],
   "source": [
    "dados_estudo.plot.scatter(x='Raça Cor',y='Salário Mensal')"
   ]
  },
  {
   "cell_type": "code",
   "execution_count": null,
   "metadata": {},
   "outputs": [],
   "source": [
    "from string import ascii_letters\n",
    "import numpy as np\n",
    "import pandas as pd\n",
    "import seaborn as sns\n",
    "import matplotlib.pyplot as plt\n",
    "\n",
    "sns.set(style=\"white\")\n",
    "\n",
    "# Generate a large random dataset\n",
    "rs = np.random.RandomState(33)\n",
    "d = pd.DataFrame(data=rs.normal(size=(100, 26)),\n",
    "                 columns=list(ascii_letters[26:]))\n",
    "\n",
    "# Compute the correlation matrix\n",
    "corr = d.corr()\n",
    "\n",
    "# Generate a mask for the upper triangle\n",
    "mask = np.zeros_like(corr, dtype=np.bool)\n",
    "mask[np.triu_indices_from(mask)] = True\n",
    "\n",
    "# Set up the matplotlib figure\n",
    "f, ax = plt.subplots(figsize=(11, 9))\n",
    "\n",
    "# Generate a custom diverging colormap\n",
    "cmap = sns.diverging_palette(220, 10, as_cmap=True)\n",
    "\n",
    "# Draw the heatmap with the mask and correct aspect ratio\n",
    "sns.heatmap(corr, mask=mask, cmap=cmap, vmax=.3, center=0,\n",
    "            square=True, linewidths=.5, cbar_kws={\"shrink\": .5})"
   ]
  },
  {
   "cell_type": "code",
   "execution_count": null,
   "metadata": {},
   "outputs": [],
   "source": []
  },
  {
   "cell_type": "code",
   "execution_count": null,
   "metadata": {},
   "outputs": [],
   "source": []
  },
  {
   "cell_type": "code",
   "execution_count": null,
   "metadata": {},
   "outputs": [],
   "source": []
  },
  {
   "cell_type": "code",
   "execution_count": null,
   "metadata": {},
   "outputs": [],
   "source": []
  },
  {
   "cell_type": "code",
   "execution_count": null,
   "metadata": {},
   "outputs": [],
   "source": []
  },
  {
   "cell_type": "code",
   "execution_count": null,
   "metadata": {},
   "outputs": [],
   "source": [
    "dados_limpo = dados.loc[(dados[\"Salário Mensal\"] > 0) & (dados[\"Idade\"] > 13)][[\"Salário Mensal\",\"Idade\", \"Grau Instrução\", \"Sexo\", \"Raça Cor\"]]"
   ]
  },
  {
   "cell_type": "code",
   "execution_count": null,
   "metadata": {},
   "outputs": [],
   "source": [
    "dados_limpo.rename(columns={\"raca cor\" : \"Raça Cor\"}, inplace=True)"
   ]
  },
  {
   "cell_type": "code",
   "execution_count": null,
   "metadata": {},
   "outputs": [],
   "source": [
    "qt = preprocessing.QuantileTransformer(output_distribution = 'normal')\n",
    "salario_normalizado = qt.fit_transform(np.array(dados_limpo['Salário Mensal']).reshape(-1,1))"
   ]
  },
  {
   "cell_type": "code",
   "execution_count": null,
   "metadata": {},
   "outputs": [],
   "source": [
    "df = pd.DataFrame(salario_normalizado,columns=[\"Salario\"]) \n",
    "df.plot.hist(bins=100)"
   ]
  },
  {
   "cell_type": "code",
   "execution_count": null,
   "metadata": {},
   "outputs": [],
   "source": [
    "df = pd.DataFrame(d,columns=[\"Salario\"]) "
   ]
  },
  {
   "cell_type": "code",
   "execution_count": null,
   "metadata": {},
   "outputs": [],
   "source": [
    "df.plot.hist(range=(-1, 1))"
   ]
  }
 ],
 "metadata": {
  "colab": {
   "collapsed_sections": [],
   "name": "Desafio1.ipynb",
   "provenance": [],
   "toc_visible": true
  },
  "kernelspec": {
   "display_name": "Python 3",
   "language": "python",
   "name": "python3"
  },
  "language_info": {
   "codemirror_mode": {
    "name": "ipython",
    "version": 3
   },
   "file_extension": ".py",
   "mimetype": "text/x-python",
   "name": "python",
   "nbconvert_exporter": "python",
   "pygments_lexer": "ipython3",
   "version": "3.7.3"
  },
  "latex_envs": {
   "LaTeX_envs_menu_present": true,
   "autoclose": false,
   "autocomplete": true,
   "bibliofile": "biblio.bib",
   "cite_by": "apalike",
   "current_citInitial": 1,
   "eqLabelWithNumbers": true,
   "eqNumInitial": 1,
   "hotkeys": {
    "equation": "Ctrl-E",
    "itemize": "Ctrl-I"
   },
   "labels_anchors": false,
   "latex_user_defs": false,
   "report_style_numbering": false,
   "user_envs_cfg": false
  },
  "toc": {
   "base_numbering": 1,
   "nav_menu": {},
   "number_sections": true,
   "sideBar": true,
   "skip_h1_title": false,
   "title_cell": "Table of Contents",
   "title_sidebar": "Contents",
   "toc_cell": false,
   "toc_position": {},
   "toc_section_display": true,
   "toc_window_display": false
  },
  "varInspector": {
   "cols": {
    "lenName": 16,
    "lenType": 16,
    "lenVar": 40
   },
   "kernels_config": {
    "python": {
     "delete_cmd_postfix": "",
     "delete_cmd_prefix": "del ",
     "library": "var_list.py",
     "varRefreshCmd": "print(var_dic_list())"
    },
    "r": {
     "delete_cmd_postfix": ") ",
     "delete_cmd_prefix": "rm(",
     "library": "var_list.r",
     "varRefreshCmd": "cat(var_dic_list()) "
    }
   },
   "types_to_exclude": [
    "module",
    "function",
    "builtin_function_or_method",
    "instance",
    "_Feature"
   ],
   "window_display": false
  }
 },
 "nbformat": 4,
 "nbformat_minor": 4
}
